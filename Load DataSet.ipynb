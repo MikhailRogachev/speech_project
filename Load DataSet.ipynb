{
 "cells": [
  {
   "cell_type": "markdown",
   "id": "3f54fd0e",
   "metadata": {},
   "source": [
    "## Ryerson Audio-Visual Database of Emotional Speech and Song (RAVDESS)\n",
    "\n",
    "Speech audio-only files (16bit, 48kHz .wav) from the RAVDESS. \n",
    "\n",
    "Full dataset of speech and song, audio and video (24.8 GB) available from Zenodo( https://zenodo.org/record/1188976#.YfAv1upBxPY). \n",
    "\n",
    "Construction and perceptual validation of the RAVDESS is described in our Open Access paper in PLoS ONE.\n",
    "\n",
    "Check out our Kaggle Song emotion dataset (https://www.kaggle.com/uwrfkaggler/ravdess-emotional-speech-audio).\n",
    "\n",
    "### Files\n",
    "\n",
    "This portion of the RAVDESS contains 1440 files: **60 trials per actor x 24 actors = 1440**. \n",
    "\n",
    "The RAVDESS contains 24 professional actors (12 female, 12 male), vocalizing two lexically-matched statements in a neutral North American accent. Speech emotions includes **calm, happy, sad, angry, fearful, surprise, and disgust** expressions. Each expression is produced at **two levels of emotional intensity (normal, strong)**, with an additional neutral expression.\n",
    "\n",
    "### File naming convention\n",
    "\n",
    "Each of the 1440 files has a unique filename. The filename consists of a 7-part numerical identifier (e.g., 03-01-06-01-02-01-12.wav). These identifiers define the stimulus characteristics:\n",
    "\n",
    "- Modality (01 = full-AV, 02 = video-only, 03 = audio-only).\n",
    "- Vocal channel (01 = speech, 02 = song).\n",
    "- Emotion (01 = neutral, 02 = calm, 03 = happy, 04 = sad, 05 = angry, 06 = fearful, 07 = disgust, 08 = surprised).\n",
    "- Emotional intensity (01 = normal, 02 = strong). NOTE: There is no strong intensity for the 'neutral' emotion.\n",
    "- Statement (01 = \"Kids are talking by the door\", 02 = \"Dogs are sitting by the door\").\n",
    "- Repetition (01 = 1st repetition, 02 = 2nd repetition).\n",
    "- Actor (01 to 24. Odd numbered actors are male, even numbered actors are female).\n",
    "\n",
    "Filename example: `03-01-06-01-02-01-12.wav`\n",
    "\n",
    "- Audio-only (03)\n",
    "- Speech (01)\n",
    "- Fearful (06)\n",
    "- Normal intensity (01)\n",
    "- Statement \"dogs\" (02)\n",
    "- 1st Repetition (01)\n",
    "- 12th Actor (12)\n",
    "\n",
    "Female, as the actor ID number is even.\n",
    "\n",
    "### How to cite the RAVDESS\n",
    "\n",
    "Academic citation\n",
    "\n",
    "If you use the RAVDESS in an academic publication, please use the following citation: Livingstone SR, Russo FA (2018) The Ryerson Audio-Visual Database of Emotional Speech and Song (RAVDESS): A dynamic, multimodal set of facial and vocal expressions in North American English. PLoS ONE 13(5): e0196391. https://doi.org/10.1371/journal.pone.0196391.\n",
    "\n",
    "All other attributions\n",
    "\n",
    "If you use the RAVDESS in a form other than an academic publication, such as in a blog post, school project, or non-commercial product, please use the following attribution: \"The Ryerson Audio-Visual Database of Emotional Speech and Song (RAVDESS)\" by Livingstone & Russo is licensed under CC BY-NA-SC 4.0."
   ]
  },
  {
   "cell_type": "code",
   "execution_count": 1,
   "id": "2756b867",
   "metadata": {},
   "outputs": [],
   "source": [
    "import os"
   ]
  },
  {
   "cell_type": "code",
   "execution_count": 31,
   "id": "5d20e376",
   "metadata": {},
   "outputs": [],
   "source": [
    "root_path = 'DataSource'"
   ]
  },
  {
   "cell_type": "markdown",
   "id": "0fb57920",
   "metadata": {},
   "source": [
    "#### Output data set:\n",
    "\n",
    "0. full file name\n",
    "1. modality\n",
    "2. vocal chanel\n",
    "3. emotion\n",
    "4. emotional intensity\n",
    "5. statement\n",
    "6. repetitions\n",
    "7. gender (1 - female, 0 - male)"
   ]
  },
  {
   "cell_type": "code",
   "execution_count": 61,
   "id": "8abc3286",
   "metadata": {},
   "outputs": [],
   "source": [
    "def create_source_dataset(root_path): \n",
    "    \n",
    "    ds = []\n",
    "    \n",
    "    root_dirs = [os.path.join(root_path, x) for x in os.listdir(root_path)]    \n",
    "    for root_dir in os.listdir(root_path):\n",
    "        \n",
    "        dir_path = os.path.join(root_path, root_dir)\n",
    "        \n",
    "        for file_src in os.listdir(dir_path):\n",
    "            # 0 element\n",
    "            file_path = os.path.join(dir_path, file_src)\n",
    "            # 1 modality 0..2\n",
    "            modality = int(file_src[0:2])\n",
    "            # 2 vocal channel 3..5\n",
    "            vocal_channel = int(file_src[3:5])\n",
    "            # 3 emotion 6..8\n",
    "            emotion = int(file_src[6:8])\n",
    "            # 4 emotional intensity 9..11\n",
    "            emotional_intensity = int(file_src[9:11])\n",
    "            # 5 statement 12..14\n",
    "            statement = int(file_src[12:14])\n",
    "            # 6 repetitions 15..17\n",
    "            repetions = int(file_src[15:17])\n",
    "            # 7 gender 18..20\n",
    "            gender_id = int(file_src[18:20])\n",
    "            gender = 0\n",
    "            if gender_id % 2 == 0:\n",
    "                gender = 1\n",
    "                \n",
    "            ds.append([file_path, modality, vocal_channel, emotion, \n",
    "                       emotional_intensity, statement, repetions, gender])\n",
    "            \n",
    "    assert len(ds) == 1440, 'it must be 1440 files in the source'\n",
    "    \n",
    "    return ds"
   ]
  },
  {
   "cell_type": "raw",
   "id": "05b5e172",
   "metadata": {},
   "source": [
    "source = create_source_dataset(root_path)"
   ]
  },
  {
   "cell_type": "code",
   "execution_count": null,
   "id": "23452141",
   "metadata": {},
   "outputs": [],
   "source": []
  }
 ],
 "metadata": {
  "kernelspec": {
   "display_name": "Python 3",
   "language": "python",
   "name": "python3"
  },
  "language_info": {
   "codemirror_mode": {
    "name": "ipython",
    "version": 3
   },
   "file_extension": ".py",
   "mimetype": "text/x-python",
   "name": "python",
   "nbconvert_exporter": "python",
   "pygments_lexer": "ipython3",
   "version": "3.8.8"
  }
 },
 "nbformat": 4,
 "nbformat_minor": 5
}
