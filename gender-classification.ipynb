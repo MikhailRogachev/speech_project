{
 "cells": [
  {
   "cell_type": "code",
   "execution_count": 4,
   "id": "ae432ee8",
   "metadata": {},
   "outputs": [],
   "source": [
    "import os, time, librosa, librosa.display\n",
    "import pandas as pd\n",
    "import numpy as np\n",
    "import matplotlib.pyplot as plt\n",
    "from tqdm import tqdm\n",
    "from tensorflow.keras import utils\n",
    "from sklearn.model_selection import train_test_split\n",
    "\n",
    "from tensorflow.keras.layers import Input, Dense, Dropout\n",
    "from tensorflow.keras.models import Sequential\n",
    "from tensorflow.keras.optimizers import RMSprop, Adam\n",
    "\n",
    "import audio_data_loader as audioloader\n",
    "import audio_data_writer as audiowriter\n",
    "import references as ref"
   ]
  },
  {
   "cell_type": "markdown",
   "id": "a3174bfc",
   "metadata": {},
   "source": [
    "### Create Dataset\n",
    "\n",
    "The dataset contains audio data prcessed. \n"
   ]
  },
  {
   "cell_type": "code",
   "execution_count": 5,
   "id": "f0e2017a",
   "metadata": {},
   "outputs": [],
   "source": [
    "def get_features(y, sr):\n",
    "    out = []\n",
    "    \n",
    "    out.append(np.mean(librosa.feature.rms(y = y)))\n",
    "    out.append(np.mean(librosa.feature.spectral_centroid(y = y, sr = sr)))\n",
    "    out.append(np.mean(librosa.feature.spectral_bandwidth(y = y, sr = sr)))\n",
    "    out.append(np.mean(librosa.feature.spectral_rolloff(y = y, sr = sr))) \n",
    "    out.append(np.mean(librosa.feature.zero_crossing_rate(y)))\n",
    "    \n",
    "    for e in librosa.feature.mfcc(y = y, sr = sr):\n",
    "        out.append(np.min(e))\n",
    "        out.append(np.mean(e))\n",
    "        out.append(np.max(e))\n",
    "        \n",
    "   \n",
    "    for e in librosa.feature.chroma_stft(y = y, sr = sr):\n",
    "        out.append(np.min(e))\n",
    "        out.append(np.mean(e))\n",
    "        out.append(np.max(e))\n",
    "\n",
    "    return out"
   ]
  },
  {
   "cell_type": "code",
   "execution_count": 6,
   "id": "418d2a34",
   "metadata": {},
   "outputs": [],
   "source": [
    "def get_dataset(source):\n",
    "    \n",
    "    x_train = []\n",
    "    y_train = []\n",
    "    \n",
    "    for i, item in tqdm(source.iterrows()):\n",
    "        \n",
    "        try:\n",
    "            # read the audio file\n",
    "            y, sr = audioloader.read_audio(item[0])\n",
    "            \n",
    "            # append x_train item\n",
    "            x_train.append(get_features(y, sr))\n",
    "            y_train.append(item[8])\n",
    "            \n",
    "        except:\n",
    "            \n",
    "            print(f'Invalid object {item[0]}')\n",
    "            \n",
    "    \n",
    "    x_train, x_val, y_train, y_val = train_test_split(np.array(x_train), \n",
    "                                                      np.array(y_train), \n",
    "                                                      test_size = 0.1, \n",
    "                                                      random_state = 42, \n",
    "                                                      shuffle = True)        \n",
    "        \n",
    "    return x_train, x_val, y_train, y_val "
   ]
  },
  {
   "cell_type": "markdown",
   "id": "84647848",
   "metadata": {},
   "source": [
    "### Neural network model builder"
   ]
  },
  {
   "cell_type": "code",
   "execution_count": 29,
   "id": "6c2417ef",
   "metadata": {},
   "outputs": [],
   "source": [
    "def get_model(input_size):\n",
    "    \n",
    "    model = Sequential()\n",
    "    model.add(Dense(400, activation = 'relu', input_shape = (input_size,)))\n",
    "    model.add(Dense(320, activation = 'relu'))\n",
    "    model.add(Dropout(0.2))\n",
    "    model.add(Dense(100, activation = 'relu'))\n",
    "    model.add(Dense(1, activation = 'sigmoid'))\n",
    "\n",
    "    model.compile(optimizer = Adam(learning_rate = 0.001),\n",
    "                  loss = 'binary_crossentropy',\n",
    "                  metrics = ['accuracy'])\n",
    "    \n",
    "    return model"
   ]
  },
  {
   "cell_type": "code",
   "execution_count": 27,
   "id": "8b94becc",
   "metadata": {},
   "outputs": [],
   "source": [
    "def get_prediction(sample_path, model):\n",
    "    \n",
    "    y, sr = audioloader.read_audio(sample_path)\n",
    "    \n",
    "    sound_sample = get_features(y, sr)\n",
    "    sound_sample = np.array(sound_sample)\n",
    "    \n",
    "    x = np.expand_dims(sound_sample, axis = 0)\n",
    "    \n",
    "    y_pred = model.predict(x)\n",
    "    index = round(y_pred[0][0])\n",
    "    \n",
    "    return 'Gender definded - {}'.format(ref.gender_ref[index])"
   ]
  },
  {
   "cell_type": "markdown",
   "id": "0a4db917",
   "metadata": {},
   "source": [
    "### Visualizations"
   ]
  },
  {
   "cell_type": "code",
   "execution_count": 9,
   "id": "ae8cdf3e",
   "metadata": {},
   "outputs": [],
   "source": [
    "def show_accuracy(data):\n",
    "    \n",
    "    fig, ax = plt.subplots(figsize = (15, 6))\n",
    "    \n",
    "    ax.plot(data.epoch, data.history['accuracy'], label = 'Accuracy')\n",
    "    ax.plot(data.epoch, data.history['val_accuracy'], label = 'Validation Accuracy')\n",
    "    \n",
    "    plt.legend()\n",
    "    plt.show()"
   ]
  },
  {
   "cell_type": "markdown",
   "id": "5a155dba",
   "metadata": {},
   "source": [
    "### Training process"
   ]
  },
  {
   "cell_type": "code",
   "execution_count": 10,
   "id": "b9a1c6b6",
   "metadata": {},
   "outputs": [
    {
     "name": "stdout",
     "output_type": "stream",
     "text": [
      "Data source array is prepared - 0.048868656158447266 c\n"
     ]
    }
   ],
   "source": [
    "source = audioloader.create_source_dataset(ref.root_path)"
   ]
  },
  {
   "cell_type": "code",
   "execution_count": 11,
   "id": "0e7bffc6",
   "metadata": {
    "scrolled": false
   },
   "outputs": [
    {
     "name": "stderr",
     "output_type": "stream",
     "text": [
      "1440it [11:15,  2.13it/s]\n"
     ]
    }
   ],
   "source": [
    "x_train, x_val, y_train, y_val = get_dataset(source)"
   ]
  },
  {
   "cell_type": "code",
   "execution_count": 30,
   "id": "a3d632b8",
   "metadata": {},
   "outputs": [],
   "source": [
    "model = get_model(x_train.shape[1])"
   ]
  },
  {
   "cell_type": "code",
   "execution_count": 31,
   "id": "013a5587",
   "metadata": {
    "scrolled": false
   },
   "outputs": [
    {
     "name": "stdout",
     "output_type": "stream",
     "text": [
      "Epoch 1/50\n",
      "24/24 [==============================] - 1s 7ms/step - loss: 63.6736 - accuracy: 0.5274 - val_loss: 22.0180 - val_accuracy: 0.5538\n",
      "Epoch 2/50\n",
      "24/24 [==============================] - 0s 4ms/step - loss: 12.8001 - accuracy: 0.5858 - val_loss: 2.5253 - val_accuracy: 0.6538\n",
      "Epoch 3/50\n",
      "24/24 [==============================] - 0s 3ms/step - loss: 6.1374 - accuracy: 0.6415 - val_loss: 2.1732 - val_accuracy: 0.7462\n",
      "Epoch 4/50\n",
      "24/24 [==============================] - 0s 3ms/step - loss: 4.2626 - accuracy: 0.6844 - val_loss: 3.2152 - val_accuracy: 0.6692\n",
      "Epoch 5/50\n",
      "24/24 [==============================] - 0s 5ms/step - loss: 2.8377 - accuracy: 0.7401 - val_loss: 1.4527 - val_accuracy: 0.7615\n",
      "Epoch 6/50\n",
      "24/24 [==============================] - 0s 7ms/step - loss: 1.9117 - accuracy: 0.7504 - val_loss: 1.6741 - val_accuracy: 0.7615\n",
      "Epoch 7/50\n",
      "24/24 [==============================] - 0s 7ms/step - loss: 2.5762 - accuracy: 0.7256 - val_loss: 1.4109 - val_accuracy: 0.7923\n",
      "Epoch 8/50\n",
      "24/24 [==============================] - 0s 7ms/step - loss: 1.2655 - accuracy: 0.7959 - val_loss: 0.4423 - val_accuracy: 0.8385\n",
      "Epoch 9/50\n",
      "24/24 [==============================] - 0s 7ms/step - loss: 1.1542 - accuracy: 0.7890 - val_loss: 0.3767 - val_accuracy: 0.8769\n",
      "Epoch 10/50\n",
      "24/24 [==============================] - 0s 7ms/step - loss: 0.7741 - accuracy: 0.8250 - val_loss: 0.2526 - val_accuracy: 0.9000\n",
      "Epoch 11/50\n",
      "24/24 [==============================] - 0s 7ms/step - loss: 0.6459 - accuracy: 0.8225 - val_loss: 0.9238 - val_accuracy: 0.6077\n",
      "Epoch 12/50\n",
      "24/24 [==============================] - 0s 7ms/step - loss: 0.5948 - accuracy: 0.8156 - val_loss: 0.3922 - val_accuracy: 0.8692\n",
      "Epoch 13/50\n",
      "24/24 [==============================] - 0s 7ms/step - loss: 0.3867 - accuracy: 0.8482 - val_loss: 0.2273 - val_accuracy: 0.8923\n",
      "Epoch 14/50\n",
      "24/24 [==============================] - 0s 7ms/step - loss: 0.3851 - accuracy: 0.8679 - val_loss: 0.3547 - val_accuracy: 0.8462\n",
      "Epoch 15/50\n",
      "24/24 [==============================] - 0s 7ms/step - loss: 0.3485 - accuracy: 0.8782 - val_loss: 0.1750 - val_accuracy: 0.9231\n",
      "Epoch 16/50\n",
      "24/24 [==============================] - 0s 7ms/step - loss: 0.2739 - accuracy: 0.8945 - val_loss: 0.1866 - val_accuracy: 0.9231\n",
      "Epoch 17/50\n",
      "24/24 [==============================] - 0s 7ms/step - loss: 0.2973 - accuracy: 0.8842 - val_loss: 0.2456 - val_accuracy: 0.8692\n",
      "Epoch 18/50\n",
      "24/24 [==============================] - 0s 7ms/step - loss: 0.3396 - accuracy: 0.8679 - val_loss: 0.5612 - val_accuracy: 0.8385\n",
      "Epoch 19/50\n",
      "24/24 [==============================] - 0s 7ms/step - loss: 0.3197 - accuracy: 0.8902 - val_loss: 0.2529 - val_accuracy: 0.9154\n",
      "Epoch 20/50\n",
      "24/24 [==============================] - 0s 6ms/step - loss: 0.2698 - accuracy: 0.8877 - val_loss: 0.2044 - val_accuracy: 0.9385\n",
      "Epoch 21/50\n",
      "24/24 [==============================] - 0s 6ms/step - loss: 0.2449 - accuracy: 0.9022 - val_loss: 0.2182 - val_accuracy: 0.9154\n",
      "Epoch 22/50\n",
      "24/24 [==============================] - 0s 7ms/step - loss: 0.2135 - accuracy: 0.9125 - val_loss: 0.2012 - val_accuracy: 0.8923\n",
      "Epoch 23/50\n",
      "24/24 [==============================] - 0s 7ms/step - loss: 0.2403 - accuracy: 0.9022 - val_loss: 0.1530 - val_accuracy: 0.9385\n",
      "Epoch 24/50\n",
      "24/24 [==============================] - 0s 7ms/step - loss: 0.1821 - accuracy: 0.9297 - val_loss: 0.1794 - val_accuracy: 0.9385\n",
      "Epoch 25/50\n",
      "24/24 [==============================] - 0s 7ms/step - loss: 0.1866 - accuracy: 0.9314 - val_loss: 0.1220 - val_accuracy: 0.9385\n",
      "Epoch 26/50\n",
      "24/24 [==============================] - 0s 7ms/step - loss: 0.2146 - accuracy: 0.9194 - val_loss: 0.1066 - val_accuracy: 0.9615\n",
      "Epoch 27/50\n",
      "24/24 [==============================] - 0s 7ms/step - loss: 0.2140 - accuracy: 0.9177 - val_loss: 0.1021 - val_accuracy: 0.9538\n",
      "Epoch 28/50\n",
      "24/24 [==============================] - 0s 7ms/step - loss: 0.2006 - accuracy: 0.9177 - val_loss: 0.2375 - val_accuracy: 0.8923\n",
      "Epoch 29/50\n",
      "24/24 [==============================] - 0s 7ms/step - loss: 0.2919 - accuracy: 0.8868 - val_loss: 0.1597 - val_accuracy: 0.9154\n",
      "Epoch 30/50\n",
      "24/24 [==============================] - 0s 7ms/step - loss: 0.2504 - accuracy: 0.9014 - val_loss: 0.0972 - val_accuracy: 0.9538\n",
      "Epoch 31/50\n",
      "24/24 [==============================] - 0s 7ms/step - loss: 0.1779 - accuracy: 0.9322 - val_loss: 0.0965 - val_accuracy: 0.9615\n",
      "Epoch 32/50\n",
      "24/24 [==============================] - 0s 7ms/step - loss: 0.2149 - accuracy: 0.9142 - val_loss: 0.1231 - val_accuracy: 0.9462\n",
      "Epoch 33/50\n",
      "24/24 [==============================] - 0s 7ms/step - loss: 0.1631 - accuracy: 0.9374 - val_loss: 0.1572 - val_accuracy: 0.9385\n",
      "Epoch 34/50\n",
      "24/24 [==============================] - 0s 7ms/step - loss: 0.1406 - accuracy: 0.9408 - val_loss: 0.1356 - val_accuracy: 0.9308\n",
      "Epoch 35/50\n",
      "24/24 [==============================] - 0s 6ms/step - loss: 0.1704 - accuracy: 0.9374 - val_loss: 0.1078 - val_accuracy: 0.9385\n",
      "Epoch 36/50\n",
      "24/24 [==============================] - 0s 6ms/step - loss: 0.1492 - accuracy: 0.9383 - val_loss: 0.0845 - val_accuracy: 0.9846\n",
      "Epoch 37/50\n",
      "24/24 [==============================] - 0s 7ms/step - loss: 0.1421 - accuracy: 0.9477 - val_loss: 0.0983 - val_accuracy: 0.9692\n",
      "Epoch 38/50\n",
      "24/24 [==============================] - 0s 7ms/step - loss: 0.1663 - accuracy: 0.9262 - val_loss: 0.1521 - val_accuracy: 0.9308\n",
      "Epoch 39/50\n",
      "24/24 [==============================] - 0s 7ms/step - loss: 0.1996 - accuracy: 0.9117 - val_loss: 0.1909 - val_accuracy: 0.8923\n",
      "Epoch 40/50\n",
      "24/24 [==============================] - 0s 7ms/step - loss: 0.2481 - accuracy: 0.8979 - val_loss: 0.1683 - val_accuracy: 0.9231\n",
      "Epoch 41/50\n",
      "24/24 [==============================] - 0s 7ms/step - loss: 0.1859 - accuracy: 0.9288 - val_loss: 0.0969 - val_accuracy: 0.9538\n",
      "Epoch 42/50\n",
      "24/24 [==============================] - 0s 7ms/step - loss: 0.1717 - accuracy: 0.9451 - val_loss: 0.0847 - val_accuracy: 0.9615\n",
      "Epoch 43/50\n",
      "24/24 [==============================] - 0s 7ms/step - loss: 0.2113 - accuracy: 0.9168 - val_loss: 0.2229 - val_accuracy: 0.9000\n",
      "Epoch 44/50\n",
      "24/24 [==============================] - 0s 7ms/step - loss: 0.1859 - accuracy: 0.9297 - val_loss: 0.3013 - val_accuracy: 0.8769\n",
      "Epoch 45/50\n",
      "24/24 [==============================] - 0s 6ms/step - loss: 0.1346 - accuracy: 0.9494 - val_loss: 0.1037 - val_accuracy: 0.9692\n",
      "Epoch 46/50\n",
      "24/24 [==============================] - 0s 6ms/step - loss: 0.1605 - accuracy: 0.9322 - val_loss: 0.2342 - val_accuracy: 0.8923\n",
      "Epoch 47/50\n",
      "24/24 [==============================] - 0s 7ms/step - loss: 0.1677 - accuracy: 0.9314 - val_loss: 0.1521 - val_accuracy: 0.9000\n",
      "Epoch 48/50\n",
      "24/24 [==============================] - 0s 7ms/step - loss: 0.1738 - accuracy: 0.9271 - val_loss: 0.0904 - val_accuracy: 0.9615\n",
      "Epoch 49/50\n",
      "24/24 [==============================] - 0s 7ms/step - loss: 0.1091 - accuracy: 0.9537 - val_loss: 0.0572 - val_accuracy: 0.9846\n",
      "Epoch 50/50\n",
      "24/24 [==============================] - 0s 7ms/step - loss: 0.1404 - accuracy: 0.9520 - val_loss: 0.1027 - val_accuracy: 0.9462\n"
     ]
    }
   ],
   "source": [
    "history = model.fit(x_train, y_train, batch_size = 50, epochs = 50, validation_split = 0.1)"
   ]
  },
  {
   "cell_type": "code",
   "execution_count": 32,
   "id": "fee599e5",
   "metadata": {
    "scrolled": false
   },
   "outputs": [
    {
     "data": {
      "image/png": "[encoded data removed]",
      "text/plain": [
       "<Figure size 1080x432 with 1 Axes>"
      ]
     },
     "metadata": {
      "needs_background": "light"
     },
     "output_type": "display_data"
    }
   ],
   "source": [
    "show_accuracy(history)"
   ]
  },
  {
   "cell_type": "code",
   "execution_count": 33,
   "id": "c9ea11c9",
   "metadata": {},
   "outputs": [
    {
     "name": "stdout",
     "output_type": "stream",
     "text": [
      "5/5 [==============================] - 0s 2ms/step - loss: 0.0721 - accuracy: 0.9722\n"
     ]
    }
   ],
   "source": [
    "pred = model.evaluate(x_val, y_val)"
   ]
  },
  {
   "cell_type": "markdown",
   "id": "fca71b14",
   "metadata": {},
   "source": [
    "### Sample Audio recording"
   ]
  },
  {
   "cell_type": "code",
   "execution_count": 16,
   "id": "37439375",
   "metadata": {},
   "outputs": [
    {
     "name": "stdout",
     "output_type": "stream",
     "text": [
      "* recording\n",
      "* data recording\n"
     ]
    }
   ],
   "source": [
    "sample_filename = audiowriter.write_audio()"
   ]
  },
  {
   "cell_type": "code",
   "execution_count": 34,
   "id": "9ad5984e",
   "metadata": {},
   "outputs": [
    {
     "name": "stdout",
     "output_type": "stream",
     "text": [
      "Gender definded - male\n"
     ]
    }
   ],
   "source": [
    "result = get_prediction(sample_filename, model)\n",
    "print(result)"
   ]
  }
 ],
 "metadata": {
  "kernelspec": {
   "display_name": "Python 3",
   "language": "python",
   "name": "python3"
  },
  "language_info": {
   "codemirror_mode": {
    "name": "ipython",
    "version": 3
   },
   "file_extension": ".py",
   "mimetype": "text/x-python",
   "name": "python",
   "nbconvert_exporter": "python",
   "pygments_lexer": "ipython3",
   "version": "3.8.8"
  }
 },
 "nbformat": 4,
 "nbformat_minor": 5
}
