{
 "cells": [
  {
   "cell_type": "code",
   "execution_count": 36,
   "id": "ae432ee8",
   "metadata": {},
   "outputs": [],
   "source": [
    "import os, time, librosa, librosa.display\n",
    "import pandas as pd\n",
    "import numpy as np\n",
    "import matplotlib.pyplot as plt\n",
    "from tqdm import tqdm\n",
    "from tensorflow.keras import utils\n",
    "from sklearn.model_selection import train_test_split\n",
    "\n",
    "from tensorflow.keras.layers import Input, Dense, Dropout\n",
    "from tensorflow.keras.models import Sequential\n",
    "from tensorflow.keras.optimizers import RMSprop, Adam\n",
    "\n",
    "import audio_data_loader as audioloader\n",
    "import audio_data_writer as audiowriter\n",
    "import references as ref"
   ]
  },
  {
   "cell_type": "markdown",
   "id": "a3174bfc",
   "metadata": {},
   "source": [
    "### Create Dataset\n",
    "\n",
    "The dataset contains audio data prcessed. \n"
   ]
  },
  {
   "cell_type": "code",
   "execution_count": 2,
   "id": "f0e2017a",
   "metadata": {},
   "outputs": [],
   "source": [
    "def get_features(y, sr):\n",
    "    out = []\n",
    "    \n",
    "    out.append(np.mean(librosa.feature.rms(y = y)))\n",
    "    out.append(np.mean(librosa.feature.spectral_centroid(y = y, sr = sr)))\n",
    "    out.append(np.mean(librosa.feature.spectral_bandwidth(y = y, sr = sr)))\n",
    "    out.append(np.mean(librosa.feature.spectral_rolloff(y = y, sr = sr))) \n",
    "    out.append(np.mean(librosa.feature.zero_crossing_rate(y)))\n",
    "    \n",
    "    for e in librosa.feature.mfcc(y = y, sr = sr):\n",
    "        out.append(np.min(e))\n",
    "        out.append(np.mean(e))\n",
    "        out.append(np.max(e))\n",
    "        \n",
    "   \n",
    "    for e in librosa.feature.chroma_stft(y = y, sr = sr):\n",
    "        out.append(np.min(e))\n",
    "        out.append(np.mean(e))\n",
    "        out.append(np.max(e))\n",
    "\n",
    "    return out"
   ]
  },
  {
   "cell_type": "code",
   "execution_count": 3,
   "id": "418d2a34",
   "metadata": {},
   "outputs": [],
   "source": [
    "def get_dataset(source):\n",
    "    \n",
    "    x_train = []\n",
    "    y_train = []\n",
    "    \n",
    "    for i, item in tqdm(source.iterrows()):\n",
    "        \n",
    "        try:\n",
    "            # read the audio file\n",
    "            y, sr = audioloader.read_audio(item[0])\n",
    "            \n",
    "            # append x_train item\n",
    "            x_train.append(get_features(y, sr))\n",
    "            y_train.append(item[8])\n",
    "            \n",
    "        except:\n",
    "            \n",
    "            print(f'Invalid object {item[0]}')\n",
    "            \n",
    "    \n",
    "    x_train, x_val, y_train, y_val = train_test_split(np.array(x_train), \n",
    "                                                      np.array(y_train), \n",
    "                                                      test_size = 0.1, \n",
    "                                                      random_state = 42, \n",
    "                                                      shuffle = True)        \n",
    "        \n",
    "    return x_train, x_val, y_train, y_val "
   ]
  },
  {
   "cell_type": "markdown",
   "id": "84647848",
   "metadata": {},
   "source": [
    "### Neural network model builder"
   ]
  },
  {
   "cell_type": "code",
   "execution_count": 69,
   "id": "6c2417ef",
   "metadata": {},
   "outputs": [],
   "source": [
    "def get_model(input_size):\n",
    "    \n",
    "    model = Sequential()\n",
    "    model.add(Dense(200, activation = 'relu', input_shape = (input_size,)))\n",
    "    model.add(Dense(120, activation = 'relu'))\n",
    "    model.add(Dropout(0.2))\n",
    "    model.add(Dense(32, activation = 'relu'))\n",
    "    model.add(Dense(1, activation = 'sigmoid'))\n",
    "\n",
    "    model.compile(optimizer = Adam(learning_rate = 0.001),\n",
    "                  loss = 'binary_crossentropy',\n",
    "                  metrics = ['accuracy'])\n",
    "    \n",
    "    return model"
   ]
  },
  {
   "cell_type": "markdown",
   "id": "0a4db917",
   "metadata": {},
   "source": [
    "### Visualizations"
   ]
  },
  {
   "cell_type": "code",
   "execution_count": 28,
   "id": "ae8cdf3e",
   "metadata": {},
   "outputs": [],
   "source": [
    "def show_accuracy(data):\n",
    "    \n",
    "    fig, ax = plt.subplots(figsize = (15, 6))\n",
    "    \n",
    "    ax.plot(data.epoch, data.history['accuracy'], label = 'Accuracy')\n",
    "    ax.plot(data.epoch, data.history['val_accuracy'], label = 'Validation Accuracy')\n",
    "    \n",
    "    plt.legend()\n",
    "    plt.show()"
   ]
  },
  {
   "cell_type": "markdown",
   "id": "5a155dba",
   "metadata": {},
   "source": [
    "### Training process"
   ]
  },
  {
   "cell_type": "code",
   "execution_count": 6,
   "id": "b9a1c6b6",
   "metadata": {},
   "outputs": [
    {
     "name": "stdout",
     "output_type": "stream",
     "text": [
      "Data source array is prepared - 0.015955448150634766 c\n"
     ]
    }
   ],
   "source": [
    "source = audioloader.create_source_dataset(ref.root_path)"
   ]
  },
  {
   "cell_type": "code",
   "execution_count": 7,
   "id": "0e7bffc6",
   "metadata": {
    "scrolled": false
   },
   "outputs": [
    {
     "name": "stderr",
     "output_type": "stream",
     "text": [
      "1440it [10:55,  2.20it/s]\n"
     ]
    }
   ],
   "source": [
    "x_train, x_val, y_train, y_val = get_dataset(source)"
   ]
  },
  {
   "cell_type": "code",
   "execution_count": 74,
   "id": "a3d632b8",
   "metadata": {},
   "outputs": [],
   "source": [
    "model = get_model(x_train.shape[1])"
   ]
  },
  {
   "cell_type": "code",
   "execution_count": 75,
   "id": "013a5587",
   "metadata": {
    "scrolled": true
   },
   "outputs": [
    {
     "name": "stdout",
     "output_type": "stream",
     "text": [
      "Epoch 1/50\n",
      "24/24 [==============================] - 1s 6ms/step - loss: 56.8033 - accuracy: 0.5206 - val_loss: 3.9138 - val_accuracy: 0.4923\n",
      "Epoch 2/50\n",
      "24/24 [==============================] - 0s 2ms/step - loss: 17.7664 - accuracy: 0.5660 - val_loss: 5.1875 - val_accuracy: 0.6308\n",
      "Epoch 3/50\n",
      "24/24 [==============================] - 0s 2ms/step - loss: 8.1983 - accuracy: 0.6484 - val_loss: 3.9617 - val_accuracy: 0.7231\n",
      "Epoch 4/50\n",
      "24/24 [==============================] - 0s 2ms/step - loss: 3.4021 - accuracy: 0.7427 - val_loss: 1.0039 - val_accuracy: 0.8615\n",
      "Epoch 5/50\n",
      "24/24 [==============================] - 0s 2ms/step - loss: 3.1355 - accuracy: 0.6715 - val_loss: 1.5807 - val_accuracy: 0.7615\n",
      "Epoch 6/50\n",
      "24/24 [==============================] - 0s 2ms/step - loss: 1.5601 - accuracy: 0.7376 - val_loss: 0.8355 - val_accuracy: 0.7615\n",
      "Epoch 7/50\n",
      "24/24 [==============================] - 0s 2ms/step - loss: 1.0121 - accuracy: 0.7719 - val_loss: 0.2429 - val_accuracy: 0.9154\n",
      "Epoch 8/50\n",
      "24/24 [==============================] - 0s 2ms/step - loss: 0.5857 - accuracy: 0.8242 - val_loss: 0.3653 - val_accuracy: 0.8538\n",
      "Epoch 9/50\n",
      "24/24 [==============================] - 0s 2ms/step - loss: 0.7800 - accuracy: 0.7804 - val_loss: 0.8265 - val_accuracy: 0.7000\n",
      "Epoch 10/50\n",
      "24/24 [==============================] - 0s 2ms/step - loss: 0.4714 - accuracy: 0.8216 - val_loss: 0.2584 - val_accuracy: 0.8846\n",
      "Epoch 11/50\n",
      "24/24 [==============================] - 0s 2ms/step - loss: 0.3339 - accuracy: 0.8748 - val_loss: 0.3541 - val_accuracy: 0.8692\n",
      "Epoch 12/50\n",
      "24/24 [==============================] - 0s 2ms/step - loss: 0.3452 - accuracy: 0.8576 - val_loss: 0.2209 - val_accuracy: 0.8923\n",
      "Epoch 13/50\n",
      "24/24 [==============================] - 0s 2ms/step - loss: 0.3303 - accuracy: 0.8611 - val_loss: 0.4878 - val_accuracy: 0.8385\n",
      "Epoch 14/50\n",
      "24/24 [==============================] - 0s 2ms/step - loss: 0.4858 - accuracy: 0.7976 - val_loss: 0.4315 - val_accuracy: 0.8308\n",
      "Epoch 15/50\n",
      "24/24 [==============================] - 0s 3ms/step - loss: 0.3540 - accuracy: 0.8431 - val_loss: 0.2200 - val_accuracy: 0.9308\n",
      "Epoch 16/50\n",
      "24/24 [==============================] - 0s 2ms/step - loss: 0.2997 - accuracy: 0.8739 - val_loss: 0.1976 - val_accuracy: 0.9308\n",
      "Epoch 17/50\n",
      "24/24 [==============================] - 0s 2ms/step - loss: 0.2865 - accuracy: 0.8722 - val_loss: 0.2935 - val_accuracy: 0.8846\n",
      "Epoch 18/50\n",
      "24/24 [==============================] - 0s 2ms/step - loss: 0.2523 - accuracy: 0.8997 - val_loss: 0.2090 - val_accuracy: 0.9231\n",
      "Epoch 19/50\n",
      "24/24 [==============================] - 0s 2ms/step - loss: 0.2680 - accuracy: 0.8971 - val_loss: 0.3516 - val_accuracy: 0.8846\n",
      "Epoch 20/50\n",
      "24/24 [==============================] - 0s 2ms/step - loss: 0.2634 - accuracy: 0.8885 - val_loss: 0.2328 - val_accuracy: 0.8923\n",
      "Epoch 21/50\n",
      "24/24 [==============================] - 0s 2ms/step - loss: 0.2215 - accuracy: 0.9211 - val_loss: 0.2523 - val_accuracy: 0.9077\n",
      "Epoch 22/50\n",
      "24/24 [==============================] - 0s 2ms/step - loss: 0.2249 - accuracy: 0.9117 - val_loss: 0.2127 - val_accuracy: 0.9000\n",
      "Epoch 23/50\n",
      "24/24 [==============================] - 0s 2ms/step - loss: 0.1919 - accuracy: 0.9142 - val_loss: 0.1586 - val_accuracy: 0.9308\n",
      "Epoch 24/50\n",
      "24/24 [==============================] - 0s 2ms/step - loss: 0.2030 - accuracy: 0.9117 - val_loss: 0.2350 - val_accuracy: 0.9154\n",
      "Epoch 25/50\n",
      "24/24 [==============================] - 0s 2ms/step - loss: 0.2038 - accuracy: 0.9185 - val_loss: 0.1531 - val_accuracy: 0.9077\n",
      "Epoch 26/50\n",
      "24/24 [==============================] - 0s 2ms/step - loss: 0.2357 - accuracy: 0.9082 - val_loss: 0.2002 - val_accuracy: 0.9231\n",
      "Epoch 27/50\n",
      "24/24 [==============================] - 0s 2ms/step - loss: 0.2399 - accuracy: 0.9099 - val_loss: 0.1619 - val_accuracy: 0.9385\n",
      "Epoch 28/50\n",
      "24/24 [==============================] - 0s 2ms/step - loss: 0.2024 - accuracy: 0.9168 - val_loss: 0.3120 - val_accuracy: 0.9077\n",
      "Epoch 29/50\n",
      "24/24 [==============================] - 0s 2ms/step - loss: 0.2017 - accuracy: 0.9168 - val_loss: 0.3679 - val_accuracy: 0.8846\n",
      "Epoch 30/50\n",
      "24/24 [==============================] - 0s 2ms/step - loss: 0.2070 - accuracy: 0.9211 - val_loss: 0.1586 - val_accuracy: 0.9308\n",
      "Epoch 31/50\n",
      "24/24 [==============================] - 0s 2ms/step - loss: 0.1920 - accuracy: 0.9237 - val_loss: 0.1823 - val_accuracy: 0.9462\n",
      "Epoch 32/50\n",
      "24/24 [==============================] - 0s 2ms/step - loss: 0.1912 - accuracy: 0.9254 - val_loss: 0.1564 - val_accuracy: 0.9462\n",
      "Epoch 33/50\n",
      "24/24 [==============================] - 0s 2ms/step - loss: 0.2173 - accuracy: 0.9160 - val_loss: 0.2388 - val_accuracy: 0.9308\n",
      "Epoch 34/50\n",
      "24/24 [==============================] - 0s 2ms/step - loss: 0.1784 - accuracy: 0.9374 - val_loss: 0.2025 - val_accuracy: 0.9231\n",
      "Epoch 35/50\n",
      "24/24 [==============================] - 0s 2ms/step - loss: 0.1772 - accuracy: 0.9348 - val_loss: 0.1572 - val_accuracy: 0.9308\n",
      "Epoch 36/50\n",
      "24/24 [==============================] - 0s 2ms/step - loss: 0.2009 - accuracy: 0.9322 - val_loss: 0.1502 - val_accuracy: 0.9385\n",
      "Epoch 37/50\n",
      "24/24 [==============================] - 0s 2ms/step - loss: 0.2121 - accuracy: 0.9220 - val_loss: 0.1700 - val_accuracy: 0.9308\n",
      "Epoch 38/50\n",
      "24/24 [==============================] - 0s 2ms/step - loss: 0.1799 - accuracy: 0.9340 - val_loss: 0.1327 - val_accuracy: 0.9538\n",
      "Epoch 39/50\n",
      "24/24 [==============================] - 0s 2ms/step - loss: 0.1624 - accuracy: 0.9374 - val_loss: 0.2963 - val_accuracy: 0.9000\n",
      "Epoch 40/50\n",
      "24/24 [==============================] - 0s 2ms/step - loss: 0.1816 - accuracy: 0.9297 - val_loss: 0.1634 - val_accuracy: 0.9462\n",
      "Epoch 41/50\n",
      "24/24 [==============================] - 0s 2ms/step - loss: 0.1409 - accuracy: 0.9537 - val_loss: 0.1138 - val_accuracy: 0.9615\n",
      "Epoch 42/50\n",
      "24/24 [==============================] - 0s 2ms/step - loss: 0.2098 - accuracy: 0.9177 - val_loss: 0.3910 - val_accuracy: 0.8923\n",
      "Epoch 43/50\n",
      "24/24 [==============================] - 0s 2ms/step - loss: 0.1601 - accuracy: 0.9434 - val_loss: 0.1966 - val_accuracy: 0.9231\n",
      "Epoch 44/50\n",
      "24/24 [==============================] - 0s 2ms/step - loss: 0.2022 - accuracy: 0.9245 - val_loss: 0.1989 - val_accuracy: 0.9154\n",
      "Epoch 45/50\n",
      "24/24 [==============================] - 0s 2ms/step - loss: 0.1993 - accuracy: 0.9237 - val_loss: 0.1327 - val_accuracy: 0.9385\n",
      "Epoch 46/50\n",
      "24/24 [==============================] - 0s 2ms/step - loss: 0.2030 - accuracy: 0.9280 - val_loss: 0.2587 - val_accuracy: 0.9077\n",
      "Epoch 47/50\n",
      "24/24 [==============================] - 0s 2ms/step - loss: 0.2643 - accuracy: 0.8988 - val_loss: 0.1488 - val_accuracy: 0.9615\n",
      "Epoch 48/50\n",
      "24/24 [==============================] - 0s 2ms/step - loss: 0.2216 - accuracy: 0.9099 - val_loss: 0.1402 - val_accuracy: 0.9385\n",
      "Epoch 49/50\n",
      "24/24 [==============================] - 0s 2ms/step - loss: 0.1483 - accuracy: 0.9460 - val_loss: 0.1003 - val_accuracy: 0.9769\n",
      "Epoch 50/50\n",
      "24/24 [==============================] - 0s 2ms/step - loss: 0.2117 - accuracy: 0.9134 - val_loss: 0.3484 - val_accuracy: 0.8385\n"
     ]
    }
   ],
   "source": [
    "history = model.fit(x_train, y_train, batch_size = 50, epochs = 50, validation_split = 0.1)"
   ]
  },
  {
   "cell_type": "code",
   "execution_count": 76,
   "id": "fee599e5",
   "metadata": {
    "scrolled": false
   },
   "outputs": [
    {
     "data": {
      "image/png": "[encoded data removed]",
      "text/plain": [
       "<Figure size 1080x432 with 1 Axes>"
      ]
     },
     "metadata": {
      "needs_background": "light"
     },
     "output_type": "display_data"
    }
   ],
   "source": [
    "show_accuracy(history)"
   ]
  },
  {
   "cell_type": "code",
   "execution_count": 77,
   "id": "c9ea11c9",
   "metadata": {},
   "outputs": [
    {
     "name": "stdout",
     "output_type": "stream",
     "text": [
      "5/5 [==============================] - 0s 2ms/step - loss: 0.3740 - accuracy: 0.8333\n"
     ]
    }
   ],
   "source": [
    "pred = model.evaluate(x_val, y_val)"
   ]
  },
  {
   "cell_type": "code",
   "execution_count": 61,
   "id": "2e121821",
   "metadata": {},
   "outputs": [
    {
     "data": {
      "text/plain": [
       "array([[0.30676383]], dtype=float32)"
      ]
     },
     "execution_count": 61,
     "metadata": {},
     "output_type": "execute_result"
    }
   ],
   "source": [
    "x = np.expand_dims(x_val[44], axis = 0)\n",
    "y_pred = model.predict(x)\n",
    "y_pred"
   ]
  },
  {
   "cell_type": "markdown",
   "id": "fca71b14",
   "metadata": {},
   "source": [
    "### Sample Audio recording"
   ]
  },
  {
   "cell_type": "code",
   "execution_count": 95,
   "id": "37439375",
   "metadata": {},
   "outputs": [
    {
     "name": "stdout",
     "output_type": "stream",
     "text": [
      "* recording\n",
      "* data recording\n"
     ]
    }
   ],
   "source": [
    "audiowriter.write_audio()"
   ]
  },
  {
   "cell_type": "code",
   "execution_count": 96,
   "id": "1bcd8534",
   "metadata": {},
   "outputs": [],
   "source": [
    "sample_filename = os.path.join(os.path.abspath(os.getcwd()), audiowriter.WAVE_OUTPUT_FILENAME)"
   ]
  },
  {
   "cell_type": "code",
   "execution_count": 97,
   "id": "9ad5984e",
   "metadata": {},
   "outputs": [
    {
     "name": "stdout",
     "output_type": "stream",
     "text": [
      "d:\\DataSource\\speech_project\\output.wav\n"
     ]
    }
   ],
   "source": [
    "print(sample_filename)"
   ]
  },
  {
   "cell_type": "code",
   "execution_count": 98,
   "id": "66f9dea1",
   "metadata": {},
   "outputs": [],
   "source": [
    "y, sr = audioloader.read_audio(sample_filename)"
   ]
  },
  {
   "cell_type": "code",
   "execution_count": 99,
   "id": "b9a0dd10",
   "metadata": {},
   "outputs": [],
   "source": [
    "sound_sample = get_features(y, sr)"
   ]
  },
  {
   "cell_type": "code",
   "execution_count": 100,
   "id": "384310dc",
   "metadata": {},
   "outputs": [],
   "source": [
    "sound_sample = np.array(sound_sample)"
   ]
  },
  {
   "cell_type": "code",
   "execution_count": 101,
   "id": "96671198",
   "metadata": {},
   "outputs": [
    {
     "data": {
      "text/plain": [
       "(101,)"
      ]
     },
     "execution_count": 101,
     "metadata": {},
     "output_type": "execute_result"
    }
   ],
   "source": [
    "sound_sample.shape"
   ]
  },
  {
   "cell_type": "code",
   "execution_count": 102,
   "id": "14a6304e",
   "metadata": {},
   "outputs": [],
   "source": [
    "x = np.expand_dims(sound_sample, axis = 0)"
   ]
  },
  {
   "cell_type": "code",
   "execution_count": 103,
   "id": "cb4e7b8f",
   "metadata": {},
   "outputs": [
    {
     "data": {
      "text/plain": [
       "(1, 101)"
      ]
     },
     "execution_count": 103,
     "metadata": {},
     "output_type": "execute_result"
    }
   ],
   "source": [
    "x.shape"
   ]
  },
  {
   "cell_type": "code",
   "execution_count": 104,
   "id": "c4d3d745",
   "metadata": {},
   "outputs": [
    {
     "data": {
      "text/plain": [
       "array([[0.9996836]], dtype=float32)"
      ]
     },
     "execution_count": 104,
     "metadata": {},
     "output_type": "execute_result"
    }
   ],
   "source": [
    "y_pred = model.predict(x)\n",
    "y_pred"
   ]
  },
  {
   "cell_type": "code",
   "execution_count": null,
   "id": "7bab6e19",
   "metadata": {},
   "outputs": [],
   "source": []
  }
 ],
 "metadata": {
  "kernelspec": {
   "display_name": "Python 3",
   "language": "python",
   "name": "python3"
  },
  "language_info": {
   "codemirror_mode": {
    "name": "ipython",
    "version": 3
   },
   "file_extension": ".py",
   "mimetype": "text/x-python",
   "name": "python",
   "nbconvert_exporter": "python",
   "pygments_lexer": "ipython3",
   "version": "3.8.8"
  }
 },
 "nbformat": 4,
 "nbformat_minor": 5
}
