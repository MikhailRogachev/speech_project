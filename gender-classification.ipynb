{
 "cells": [
  {
   "cell_type": "code",
   "execution_count": 1,
   "id": "ae432ee8",
   "metadata": {},
   "outputs": [],
   "source": [
    "import os, time, librosa, librosa.display\n",
    "import pandas as pd\n",
    "import numpy as np\n",
    "import matplotlib.pyplot as plt\n",
    "from tensorflow.keras import utils\n",
    "from sklearn.model_selection import train_test_split\n",
    "\n",
    "from tensorflow.keras.layers import Input, Dense, Dropout\n",
    "from tensorflow.keras.models import Sequential, Model\n",
    "from tensorflow.keras.optimizers import RMSprop, Adam\n",
    "\n",
    "import audio_data_loader as audioloader\n",
    "import audio_data_writer as audiowriter\n",
    "import dataset_loader as dataset\n",
    "import references as ref"
   ]
  },
  {
   "cell_type": "markdown",
   "id": "84647848",
   "metadata": {},
   "source": [
    "### Neural network model builder"
   ]
  },
  {
   "cell_type": "code",
   "execution_count": 2,
   "id": "6c2417ef",
   "metadata": {},
   "outputs": [],
   "source": [
    "def __get_model(input_size):\n",
    "    \n",
    "    model = Sequential()\n",
    "    model.add(Dense(400, activation = 'relu', input_shape = (input_size,)))\n",
    "    model.add(Dense(320, activation = 'relu'))\n",
    "    model.add(Dropout(0.2))\n",
    "    model.add(Dense(100, activation = 'relu'))\n",
    "    model.add(Dense(1, activation = 'sigmoid'))\n",
    "\n",
    "    model.compile(optimizer = Adam(learning_rate = 0.001),\n",
    "                  loss = 'binary_crossentropy',\n",
    "                  metrics = ['accuracy'])\n",
    "    \n",
    "    return model"
   ]
  },
  {
   "cell_type": "code",
   "execution_count": 12,
   "id": "46bd8afd",
   "metadata": {},
   "outputs": [],
   "source": [
    "def get_model(input_size):\n",
    "    \n",
    "    g_input = Input((input_size,))\n",
    "    x = Dense(400, activation = 'relu')(g_input)\n",
    "    x = Dense(320, activation = 'relu')(x)\n",
    "    x = Dropout(0.2)(x)\n",
    "    x = Dense(100, activation = 'relu')(x)\n",
    "    g_output = Dense(1, activation = 'sigmoid')(x)\n",
    "    \n",
    "    model = Model(g_input, g_output)\n",
    "    \n",
    "    model.compile(optimizer = Adam(learning_rate = 0.001),\n",
    "                  loss = 'binary_crossentropy',\n",
    "                  metrics = ['accuracy'])\n",
    "    \n",
    "    return model"
   ]
  },
  {
   "cell_type": "code",
   "execution_count": 4,
   "id": "8b94becc",
   "metadata": {},
   "outputs": [],
   "source": [
    "def get_prediction(sample_path, model):\n",
    "    \n",
    "    y, sr = audioloader.read_audio(sample_path)\n",
    "    \n",
    "    sound_sample = dataset.get_features(y, sr)\n",
    "    sound_sample = np.array(sound_sample)\n",
    "    \n",
    "    x = np.expand_dims(sound_sample, axis = 0)\n",
    "    \n",
    "    y_pred = model.predict(x)\n",
    "    value = y_pred[0][0]\n",
    "    index = round(value)\n",
    "    \n",
    "    return 'Gender definded - {} / value = {}'.format(ref.gender_ref[index], value)"
   ]
  },
  {
   "cell_type": "markdown",
   "id": "0a4db917",
   "metadata": {},
   "source": [
    "### Visualizations"
   ]
  },
  {
   "cell_type": "code",
   "execution_count": 5,
   "id": "ae8cdf3e",
   "metadata": {},
   "outputs": [],
   "source": [
    "def show_accuracy(data):\n",
    "    \n",
    "    fig, ax = plt.subplots(figsize = (15, 6))\n",
    "    \n",
    "    ax.plot(data.epoch, data.history['accuracy'], label = 'Accuracy')\n",
    "    ax.plot(data.epoch, data.history['val_accuracy'], label = 'Validation Accuracy')\n",
    "    \n",
    "    plt.legend()\n",
    "    plt.show()"
   ]
  },
  {
   "cell_type": "markdown",
   "id": "5a155dba",
   "metadata": {},
   "source": [
    "### Training process"
   ]
  },
  {
   "cell_type": "code",
   "execution_count": 6,
   "id": "b9a1c6b6",
   "metadata": {},
   "outputs": [
    {
     "name": "stdout",
     "output_type": "stream",
     "text": [
      "Data source array is prepared - 0.03021693229675293 c\n"
     ]
    }
   ],
   "source": [
    "source = audioloader.create_source_dataset(ref.root_path)"
   ]
  },
  {
   "cell_type": "code",
   "execution_count": 7,
   "id": "0e7bffc6",
   "metadata": {
    "scrolled": false
   },
   "outputs": [
    {
     "name": "stderr",
     "output_type": "stream",
     "text": [
      "1440it [10:52,  2.21it/s]\n"
     ]
    }
   ],
   "source": [
    "x_train, x_val, y_train, y_val = dataset.get_dataset(source)"
   ]
  },
  {
   "cell_type": "code",
   "execution_count": 13,
   "id": "a3d632b8",
   "metadata": {},
   "outputs": [],
   "source": [
    "model = get_model(x_train.shape[1])"
   ]
  },
  {
   "cell_type": "code",
   "execution_count": 14,
   "id": "013a5587",
   "metadata": {
    "scrolled": false
   },
   "outputs": [
    {
     "name": "stdout",
     "output_type": "stream",
     "text": [
      "Epoch 1/50\n",
      "24/24 [==============================] - 1s 19ms/step - loss: 56.9776 - accuracy: 0.5232 - val_loss: 4.5959 - val_accuracy: 0.6154\n",
      "Epoch 2/50\n",
      "24/24 [==============================] - 0s 7ms/step - loss: 11.8465 - accuracy: 0.6029 - val_loss: 7.9558 - val_accuracy: 0.5385\n",
      "Epoch 3/50\n",
      "24/24 [==============================] - 0s 7ms/step - loss: 6.2331 - accuracy: 0.6698 - val_loss: 1.4949 - val_accuracy: 0.8308\n",
      "Epoch 4/50\n",
      "24/24 [==============================] - 0s 5ms/step - loss: 3.5220 - accuracy: 0.7273 - val_loss: 2.2790 - val_accuracy: 0.7615\n",
      "Epoch 5/50\n",
      "24/24 [==============================] - 0s 7ms/step - loss: 2.6464 - accuracy: 0.7067 - val_loss: 0.5272 - val_accuracy: 0.8231\n",
      "Epoch 6/50\n",
      "24/24 [==============================] - 0s 7ms/step - loss: 1.7688 - accuracy: 0.7530 - val_loss: 0.6605 - val_accuracy: 0.8308\n",
      "Epoch 7/50\n",
      "24/24 [==============================] - 0s 7ms/step - loss: 1.2820 - accuracy: 0.7899 - val_loss: 0.6919 - val_accuracy: 0.8385\n",
      "Epoch 8/50\n",
      "24/24 [==============================] - 0s 7ms/step - loss: 0.9360 - accuracy: 0.7933 - val_loss: 0.4558 - val_accuracy: 0.8308\n",
      "Epoch 9/50\n",
      "24/24 [==============================] - 0s 7ms/step - loss: 0.7621 - accuracy: 0.8216 - val_loss: 0.4986 - val_accuracy: 0.8385\n",
      "Epoch 10/50\n",
      "24/24 [==============================] - 0s 6ms/step - loss: 0.8539 - accuracy: 0.7959 - val_loss: 0.6516 - val_accuracy: 0.8077\n",
      "Epoch 11/50\n",
      "24/24 [==============================] - 0s 7ms/step - loss: 0.6515 - accuracy: 0.8087 - val_loss: 0.2430 - val_accuracy: 0.8923\n",
      "Epoch 12/50\n",
      "24/24 [==============================] - 0s 7ms/step - loss: 0.5451 - accuracy: 0.8268 - val_loss: 0.2200 - val_accuracy: 0.9077\n",
      "Epoch 13/50\n",
      "24/24 [==============================] - 0s 7ms/step - loss: 0.3880 - accuracy: 0.8748 - val_loss: 0.2287 - val_accuracy: 0.8846\n",
      "Epoch 14/50\n",
      "24/24 [==============================] - 0s 7ms/step - loss: 0.4398 - accuracy: 0.8431 - val_loss: 0.2204 - val_accuracy: 0.9231\n",
      "Epoch 15/50\n",
      "24/24 [==============================] - 0s 7ms/step - loss: 0.3609 - accuracy: 0.8765 - val_loss: 0.1913 - val_accuracy: 0.9308\n",
      "Epoch 16/50\n",
      "24/24 [==============================] - 0s 7ms/step - loss: 0.2795 - accuracy: 0.9005 - val_loss: 0.2003 - val_accuracy: 0.9154\n",
      "Epoch 17/50\n",
      "24/24 [==============================] - 0s 7ms/step - loss: 0.2705 - accuracy: 0.8962 - val_loss: 0.1834 - val_accuracy: 0.9231\n",
      "Epoch 18/50\n",
      "24/24 [==============================] - 0s 7ms/step - loss: 0.2996 - accuracy: 0.8928 - val_loss: 0.2374 - val_accuracy: 0.9077\n",
      "Epoch 19/50\n",
      "24/24 [==============================] - 0s 7ms/step - loss: 0.2903 - accuracy: 0.8894 - val_loss: 0.1630 - val_accuracy: 0.9538\n",
      "Epoch 20/50\n",
      "24/24 [==============================] - 0s 7ms/step - loss: 0.2816 - accuracy: 0.8962 - val_loss: 0.7008 - val_accuracy: 0.7615\n",
      "Epoch 21/50\n",
      "24/24 [==============================] - 0s 7ms/step - loss: 0.3542 - accuracy: 0.8748 - val_loss: 0.2676 - val_accuracy: 0.9077\n",
      "Epoch 22/50\n",
      "24/24 [==============================] - 0s 7ms/step - loss: 0.2505 - accuracy: 0.9117 - val_loss: 0.2209 - val_accuracy: 0.9000\n",
      "Epoch 23/50\n",
      "24/24 [==============================] - 0s 6ms/step - loss: 0.2817 - accuracy: 0.8877 - val_loss: 0.2644 - val_accuracy: 0.9077\n",
      "Epoch 24/50\n",
      "24/24 [==============================] - 0s 6ms/step - loss: 0.2706 - accuracy: 0.8911 - val_loss: 0.1461 - val_accuracy: 0.9538\n",
      "Epoch 25/50\n",
      "24/24 [==============================] - 0s 7ms/step - loss: 0.3442 - accuracy: 0.8628 - val_loss: 0.1624 - val_accuracy: 0.9462\n",
      "Epoch 26/50\n",
      "24/24 [==============================] - 0s 6ms/step - loss: 0.3175 - accuracy: 0.8722 - val_loss: 0.2237 - val_accuracy: 0.8923\n",
      "Epoch 27/50\n",
      "24/24 [==============================] - 0s 5ms/step - loss: 0.3143 - accuracy: 0.8834 - val_loss: 0.2812 - val_accuracy: 0.8923\n",
      "Epoch 28/50\n",
      "24/24 [==============================] - 0s 4ms/step - loss: 0.3053 - accuracy: 0.8688 - val_loss: 0.2835 - val_accuracy: 0.8769\n",
      "Epoch 29/50\n",
      "24/24 [==============================] - 0s 4ms/step - loss: 0.3121 - accuracy: 0.8739 - val_loss: 0.2978 - val_accuracy: 0.8769\n",
      "Epoch 30/50\n",
      "24/24 [==============================] - 0s 4ms/step - loss: 0.2991 - accuracy: 0.8516 - val_loss: 0.2420 - val_accuracy: 0.8846\n",
      "Epoch 31/50\n",
      "24/24 [==============================] - 0s 7ms/step - loss: 0.2398 - accuracy: 0.9048 - val_loss: 0.1597 - val_accuracy: 0.9308\n",
      "Epoch 32/50\n",
      "24/24 [==============================] - 0s 7ms/step - loss: 0.2242 - accuracy: 0.9091 - val_loss: 0.2323 - val_accuracy: 0.9154\n",
      "Epoch 33/50\n",
      "24/24 [==============================] - 0s 7ms/step - loss: 0.2308 - accuracy: 0.9039 - val_loss: 0.1860 - val_accuracy: 0.9308\n",
      "Epoch 34/50\n",
      "24/24 [==============================] - 0s 7ms/step - loss: 0.2067 - accuracy: 0.9117 - val_loss: 0.1622 - val_accuracy: 0.9308\n",
      "Epoch 35/50\n",
      "24/24 [==============================] - 0s 7ms/step - loss: 0.2151 - accuracy: 0.9151 - val_loss: 0.1799 - val_accuracy: 0.9308\n",
      "Epoch 36/50\n",
      "24/24 [==============================] - 0s 7ms/step - loss: 0.1835 - accuracy: 0.9245 - val_loss: 0.2010 - val_accuracy: 0.9231\n",
      "Epoch 37/50\n",
      "24/24 [==============================] - 0s 7ms/step - loss: 0.2241 - accuracy: 0.9082 - val_loss: 0.5583 - val_accuracy: 0.8077\n",
      "Epoch 38/50\n",
      "24/24 [==============================] - 0s 7ms/step - loss: 0.4190 - accuracy: 0.8328 - val_loss: 0.2229 - val_accuracy: 0.9462\n",
      "Epoch 39/50\n",
      "24/24 [==============================] - 0s 7ms/step - loss: 0.3937 - accuracy: 0.8508 - val_loss: 0.2977 - val_accuracy: 0.8692\n",
      "Epoch 40/50\n",
      "24/24 [==============================] - 0s 7ms/step - loss: 0.3373 - accuracy: 0.8765 - val_loss: 0.3360 - val_accuracy: 0.8462\n",
      "Epoch 41/50\n",
      "24/24 [==============================] - 0s 7ms/step - loss: 0.3435 - accuracy: 0.8593 - val_loss: 0.2581 - val_accuracy: 0.8923\n",
      "Epoch 42/50\n",
      "24/24 [==============================] - 0s 7ms/step - loss: 0.2034 - accuracy: 0.9177 - val_loss: 0.3218 - val_accuracy: 0.8692\n",
      "Epoch 43/50\n",
      "24/24 [==============================] - 0s 7ms/step - loss: 0.1776 - accuracy: 0.9331 - val_loss: 0.1040 - val_accuracy: 0.9692\n",
      "Epoch 44/50\n",
      "24/24 [==============================] - 0s 7ms/step - loss: 0.2209 - accuracy: 0.9074 - val_loss: 0.1205 - val_accuracy: 0.9615\n",
      "Epoch 45/50\n",
      "24/24 [==============================] - 0s 7ms/step - loss: 0.2152 - accuracy: 0.9125 - val_loss: 0.0972 - val_accuracy: 0.9692\n",
      "Epoch 46/50\n",
      "24/24 [==============================] - 0s 7ms/step - loss: 0.2292 - accuracy: 0.8971 - val_loss: 0.1262 - val_accuracy: 0.9615\n",
      "Epoch 47/50\n",
      "24/24 [==============================] - 0s 7ms/step - loss: 0.1589 - accuracy: 0.9322 - val_loss: 0.1443 - val_accuracy: 0.9308\n",
      "Epoch 48/50\n",
      "24/24 [==============================] - 0s 7ms/step - loss: 0.2378 - accuracy: 0.8602 - val_loss: 0.1884 - val_accuracy: 0.8923\n",
      "Epoch 49/50\n",
      "24/24 [==============================] - 0s 7ms/step - loss: 0.2286 - accuracy: 0.8491 - val_loss: 0.2188 - val_accuracy: 0.8923\n",
      "Epoch 50/50\n",
      "24/24 [==============================] - 0s 7ms/step - loss: 0.2252 - accuracy: 0.8602 - val_loss: 0.0878 - val_accuracy: 0.9462\n"
     ]
    }
   ],
   "source": [
    "history = model.fit(x_train, y_train, batch_size = 50, epochs = 50, validation_split = 0.1)"
   ]
  },
  {
   "cell_type": "code",
   "execution_count": 15,
   "id": "fee599e5",
   "metadata": {
    "scrolled": false
   },
   "outputs": [
    {
     "data": {
      "image/png": "[encoded data removed]",
      "text/plain": [
       "<Figure size 1080x432 with 1 Axes>"
      ]
     },
     "metadata": {
      "needs_background": "light"
     },
     "output_type": "display_data"
    }
   ],
   "source": [
    "show_accuracy(history)"
   ]
  },
  {
   "cell_type": "code",
   "execution_count": 16,
   "id": "c9ea11c9",
   "metadata": {},
   "outputs": [
    {
     "name": "stdout",
     "output_type": "stream",
     "text": [
      "5/5 [==============================] - 0s 3ms/step - loss: 0.0784 - accuracy: 0.9444\n"
     ]
    }
   ],
   "source": [
    "pred = model.evaluate(x_val, y_val)"
   ]
  },
  {
   "cell_type": "markdown",
   "id": "fca71b14",
   "metadata": {},
   "source": [
    "### Sample Audio recording"
   ]
  },
  {
   "cell_type": "code",
   "execution_count": 17,
   "id": "37439375",
   "metadata": {},
   "outputs": [
    {
     "name": "stdout",
     "output_type": "stream",
     "text": [
      "* recording\n",
      "* data recording\n"
     ]
    }
   ],
   "source": [
    "sample_filename = audiowriter.write_audio()"
   ]
  },
  {
   "cell_type": "code",
   "execution_count": 18,
   "id": "9ad5984e",
   "metadata": {},
   "outputs": [
    {
     "name": "stdout",
     "output_type": "stream",
     "text": [
      "Gender definded - female / value = 0.9999102354049683\n"
     ]
    }
   ],
   "source": [
    "result = get_prediction(sample_filename, model)\n",
    "print(result)"
   ]
  },
  {
   "cell_type": "code",
   "execution_count": null,
   "id": "f978efa2",
   "metadata": {},
   "outputs": [],
   "source": []
  }
 ],
 "metadata": {
  "kernelspec": {
   "display_name": "Python 3",
   "language": "python",
   "name": "python3"
  },
  "language_info": {
   "codemirror_mode": {
    "name": "ipython",
    "version": 3
   },
   "file_extension": ".py",
   "mimetype": "text/x-python",
   "name": "python",
   "nbconvert_exporter": "python",
   "pygments_lexer": "ipython3",
   "version": "3.8.8"
  }
 },
 "nbformat": 4,
 "nbformat_minor": 5
}
