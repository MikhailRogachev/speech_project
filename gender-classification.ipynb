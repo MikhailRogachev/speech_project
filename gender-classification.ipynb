{
 "cells": [
  {
   "cell_type": "code",
   "execution_count": 1,
   "id": "ae432ee8",
   "metadata": {},
   "outputs": [],
   "source": [
    "import os, time, librosa, librosa.display\n",
    "import pandas as pd\n",
    "import numpy as np\n",
    "import matplotlib.pyplot as plt\n",
    "from tensorflow.keras import utils\n",
    "from sklearn.model_selection import train_test_split\n",
    "\n",
    "from tensorflow.keras.layers import Input, Dense, Dropout\n",
    "from tensorflow.keras.models import Sequential\n",
    "from tensorflow.keras.optimizers import RMSprop, Adam\n",
    "\n",
    "import audio_data_loader as audioloader\n",
    "import audio_data_writer as audiowriter\n",
    "import dataset_loader as dataset\n",
    "import references as ref"
   ]
  },
  {
   "cell_type": "markdown",
   "id": "84647848",
   "metadata": {},
   "source": [
    "### Neural network model builder"
   ]
  },
  {
   "cell_type": "code",
   "execution_count": 2,
   "id": "6c2417ef",
   "metadata": {},
   "outputs": [],
   "source": [
    "def get_model(input_size):\n",
    "    \n",
    "    model = Sequential()\n",
    "    model.add(Dense(400, activation = 'relu', input_shape = (input_size,)))\n",
    "    model.add(Dense(320, activation = 'relu'))\n",
    "    model.add(Dropout(0.2))\n",
    "    model.add(Dense(100, activation = 'relu'))\n",
    "    model.add(Dense(1, activation = 'sigmoid'))\n",
    "\n",
    "    model.compile(optimizer = Adam(learning_rate = 0.001),\n",
    "                  loss = 'binary_crossentropy',\n",
    "                  metrics = ['accuracy'])\n",
    "    \n",
    "    return model"
   ]
  },
  {
   "cell_type": "code",
   "execution_count": 15,
   "id": "8b94becc",
   "metadata": {},
   "outputs": [],
   "source": [
    "def get_prediction(sample_path, model):\n",
    "    \n",
    "    y, sr = audioloader.read_audio(sample_path)\n",
    "    \n",
    "    sound_sample = dataset.get_features(y, sr)\n",
    "    sound_sample = np.array(sound_sample)\n",
    "    \n",
    "    x = np.expand_dims(sound_sample, axis = 0)\n",
    "    \n",
    "    y_pred = model.predict(x)\n",
    "    value = y_pred[0][0]\n",
    "    index = round(value)\n",
    "    \n",
    "    return 'Gender definded - {} / value = {}'.format(ref.gender_ref[index], value)"
   ]
  },
  {
   "cell_type": "markdown",
   "id": "0a4db917",
   "metadata": {},
   "source": [
    "### Visualizations"
   ]
  },
  {
   "cell_type": "code",
   "execution_count": 4,
   "id": "ae8cdf3e",
   "metadata": {},
   "outputs": [],
   "source": [
    "def show_accuracy(data):\n",
    "    \n",
    "    fig, ax = plt.subplots(figsize = (15, 6))\n",
    "    \n",
    "    ax.plot(data.epoch, data.history['accuracy'], label = 'Accuracy')\n",
    "    ax.plot(data.epoch, data.history['val_accuracy'], label = 'Validation Accuracy')\n",
    "    \n",
    "    plt.legend()\n",
    "    plt.show()"
   ]
  },
  {
   "cell_type": "markdown",
   "id": "5a155dba",
   "metadata": {},
   "source": [
    "### Training process"
   ]
  },
  {
   "cell_type": "code",
   "execution_count": 5,
   "id": "b9a1c6b6",
   "metadata": {},
   "outputs": [
    {
     "name": "stdout",
     "output_type": "stream",
     "text": [
      "Data source array is prepared - 0.02095174789428711 c\n"
     ]
    }
   ],
   "source": [
    "source = audioloader.create_source_dataset(ref.root_path)"
   ]
  },
  {
   "cell_type": "code",
   "execution_count": 6,
   "id": "0e7bffc6",
   "metadata": {
    "scrolled": false
   },
   "outputs": [
    {
     "name": "stderr",
     "output_type": "stream",
     "text": [
      "1440it [10:18,  2.33it/s]\n"
     ]
    }
   ],
   "source": [
    "x_train, x_val, y_train, y_val = dataset.get_dataset(source)"
   ]
  },
  {
   "cell_type": "code",
   "execution_count": 7,
   "id": "a3d632b8",
   "metadata": {},
   "outputs": [],
   "source": [
    "model = get_model(x_train.shape[1])"
   ]
  },
  {
   "cell_type": "code",
   "execution_count": null,
   "id": "0ee2e785",
   "metadata": {},
   "outputs": [],
   "source": []
  },
  {
   "cell_type": "code",
   "execution_count": null,
   "id": "2d6b3dd1",
   "metadata": {},
   "outputs": [],
   "source": []
  },
  {
   "cell_type": "code",
   "execution_count": 8,
   "id": "013a5587",
   "metadata": {
    "scrolled": false
   },
   "outputs": [
    {
     "name": "stdout",
     "output_type": "stream",
     "text": [
      "Epoch 1/50\n",
      "24/24 [==============================] - 1s 15ms/step - loss: 51.0537 - accuracy: 0.5412 - val_loss: 14.2431 - val_accuracy: 0.5538\n",
      "Epoch 2/50\n",
      "24/24 [==============================] - 0s 5ms/step - loss: 10.3245 - accuracy: 0.6192 - val_loss: 3.5867 - val_accuracy: 0.7154\n",
      "Epoch 3/50\n",
      "24/24 [==============================] - 0s 6ms/step - loss: 5.4674 - accuracy: 0.6655 - val_loss: 4.1679 - val_accuracy: 0.6692\n",
      "Epoch 4/50\n",
      "24/24 [==============================] - 0s 7ms/step - loss: 2.2755 - accuracy: 0.7333 - val_loss: 1.8698 - val_accuracy: 0.7923\n",
      "Epoch 5/50\n",
      "24/24 [==============================] - 0s 7ms/step - loss: 1.5189 - accuracy: 0.7564 - val_loss: 0.5162 - val_accuracy: 0.8308\n",
      "Epoch 6/50\n",
      "24/24 [==============================] - 0s 7ms/step - loss: 1.0721 - accuracy: 0.7864 - val_loss: 1.1758 - val_accuracy: 0.7615\n",
      "Epoch 7/50\n",
      "24/24 [==============================] - 0s 7ms/step - loss: 1.1300 - accuracy: 0.7401 - val_loss: 0.6478 - val_accuracy: 0.8154\n",
      "Epoch 8/50\n",
      "24/24 [==============================] - 0s 7ms/step - loss: 0.8657 - accuracy: 0.7736 - val_loss: 0.3426 - val_accuracy: 0.8462\n",
      "Epoch 9/50\n",
      "24/24 [==============================] - 0s 7ms/step - loss: 0.6210 - accuracy: 0.7985 - val_loss: 0.2787 - val_accuracy: 0.8923\n",
      "Epoch 10/50\n",
      "24/24 [==============================] - 0s 7ms/step - loss: 0.6143 - accuracy: 0.7907 - val_loss: 0.9103 - val_accuracy: 0.7308\n",
      "Epoch 11/50\n",
      "24/24 [==============================] - 0s 7ms/step - loss: 0.5963 - accuracy: 0.7942 - val_loss: 0.3236 - val_accuracy: 0.8462\n",
      "Epoch 12/50\n",
      "24/24 [==============================] - 0s 7ms/step - loss: 0.5954 - accuracy: 0.8019 - val_loss: 0.5836 - val_accuracy: 0.7308\n",
      "Epoch 13/50\n",
      "24/24 [==============================] - 0s 7ms/step - loss: 0.5515 - accuracy: 0.7890 - val_loss: 0.3288 - val_accuracy: 0.8462\n",
      "Epoch 14/50\n",
      "24/24 [==============================] - 0s 7ms/step - loss: 0.5255 - accuracy: 0.8122 - val_loss: 0.3228 - val_accuracy: 0.8385\n",
      "Epoch 15/50\n",
      "24/24 [==============================] - 0s 7ms/step - loss: 0.3468 - accuracy: 0.8602 - val_loss: 0.3187 - val_accuracy: 0.8462\n",
      "Epoch 16/50\n",
      "24/24 [==============================] - 0s 7ms/step - loss: 0.3126 - accuracy: 0.8748 - val_loss: 0.2899 - val_accuracy: 0.8923\n",
      "Epoch 17/50\n",
      "24/24 [==============================] - 0s 7ms/step - loss: 0.3067 - accuracy: 0.8851 - val_loss: 0.3354 - val_accuracy: 0.8615\n",
      "Epoch 18/50\n",
      "24/24 [==============================] - 0s 6ms/step - loss: 0.2774 - accuracy: 0.8851 - val_loss: 0.2153 - val_accuracy: 0.8923\n",
      "Epoch 19/50\n",
      "24/24 [==============================] - 0s 7ms/step - loss: 0.2751 - accuracy: 0.8825 - val_loss: 0.2015 - val_accuracy: 0.9000\n",
      "Epoch 20/50\n",
      "24/24 [==============================] - 0s 7ms/step - loss: 0.2944 - accuracy: 0.8877 - val_loss: 0.1970 - val_accuracy: 0.8923\n",
      "Epoch 21/50\n",
      "24/24 [==============================] - 0s 7ms/step - loss: 0.2754 - accuracy: 0.9022 - val_loss: 0.2422 - val_accuracy: 0.8923\n",
      "Epoch 22/50\n",
      "24/24 [==============================] - 0s 8ms/step - loss: 0.3331 - accuracy: 0.8679 - val_loss: 0.1920 - val_accuracy: 0.9231\n",
      "Epoch 23/50\n",
      "24/24 [==============================] - 0s 7ms/step - loss: 0.2892 - accuracy: 0.8791 - val_loss: 0.1725 - val_accuracy: 0.9154\n",
      "Epoch 24/50\n",
      "24/24 [==============================] - 0s 7ms/step - loss: 0.2557 - accuracy: 0.8851 - val_loss: 0.1642 - val_accuracy: 0.9231\n",
      "Epoch 25/50\n",
      "24/24 [==============================] - 0s 7ms/step - loss: 0.3345 - accuracy: 0.8705 - val_loss: 0.2810 - val_accuracy: 0.8923\n",
      "Epoch 26/50\n",
      "24/24 [==============================] - 0s 7ms/step - loss: 0.3631 - accuracy: 0.8619 - val_loss: 0.4046 - val_accuracy: 0.8462\n",
      "Epoch 27/50\n",
      "24/24 [==============================] - 0s 7ms/step - loss: 0.2898 - accuracy: 0.8816 - val_loss: 0.1731 - val_accuracy: 0.9231\n",
      "Epoch 28/50\n",
      "24/24 [==============================] - 0s 7ms/step - loss: 0.2164 - accuracy: 0.9005 - val_loss: 0.1803 - val_accuracy: 0.9231\n",
      "Epoch 29/50\n",
      "24/24 [==============================] - 0s 7ms/step - loss: 0.2104 - accuracy: 0.9099 - val_loss: 0.1805 - val_accuracy: 0.9154\n",
      "Epoch 30/50\n",
      "24/24 [==============================] - 0s 7ms/step - loss: 0.2548 - accuracy: 0.8911 - val_loss: 0.2176 - val_accuracy: 0.9231\n",
      "Epoch 31/50\n",
      "24/24 [==============================] - 0s 7ms/step - loss: 0.2549 - accuracy: 0.8842 - val_loss: 0.1825 - val_accuracy: 0.9077\n",
      "Epoch 32/50\n",
      "24/24 [==============================] - 0s 7ms/step - loss: 0.2199 - accuracy: 0.9245 - val_loss: 0.2829 - val_accuracy: 0.8538\n",
      "Epoch 33/50\n",
      "24/24 [==============================] - 0s 7ms/step - loss: 0.3055 - accuracy: 0.8765 - val_loss: 0.1620 - val_accuracy: 0.9385\n",
      "Epoch 34/50\n",
      "24/24 [==============================] - 0s 7ms/step - loss: 0.1992 - accuracy: 0.9151 - val_loss: 0.1754 - val_accuracy: 0.9385\n",
      "Epoch 35/50\n",
      "24/24 [==============================] - 0s 7ms/step - loss: 0.2745 - accuracy: 0.8774 - val_loss: 0.2357 - val_accuracy: 0.8846\n",
      "Epoch 36/50\n",
      "24/24 [==============================] - 0s 7ms/step - loss: 0.3063 - accuracy: 0.8268 - val_loss: 0.1527 - val_accuracy: 0.9154\n",
      "Epoch 37/50\n",
      "24/24 [==============================] - 0s 7ms/step - loss: 0.3412 - accuracy: 0.7856 - val_loss: 0.2750 - val_accuracy: 0.8923\n",
      "Epoch 38/50\n",
      "24/24 [==============================] - 0s 7ms/step - loss: 0.3643 - accuracy: 0.8027 - val_loss: 0.5147 - val_accuracy: 0.8308\n",
      "Epoch 39/50\n",
      "24/24 [==============================] - 0s 7ms/step - loss: 0.3420 - accuracy: 0.8156 - val_loss: 0.1826 - val_accuracy: 0.9000\n",
      "Epoch 40/50\n",
      "24/24 [==============================] - 0s 7ms/step - loss: 0.2484 - accuracy: 0.8285 - val_loss: 0.1711 - val_accuracy: 0.9077\n",
      "Epoch 41/50\n",
      "24/24 [==============================] - 0s 7ms/step - loss: 0.2284 - accuracy: 0.8362 - val_loss: 0.1525 - val_accuracy: 0.9154\n",
      "Epoch 42/50\n",
      "24/24 [==============================] - 0s 7ms/step - loss: 0.2608 - accuracy: 0.8379 - val_loss: 0.1847 - val_accuracy: 0.9231\n",
      "Epoch 43/50\n",
      "24/24 [==============================] - 0s 7ms/step - loss: 0.2589 - accuracy: 0.8628 - val_loss: 0.1659 - val_accuracy: 0.9615\n",
      "Epoch 44/50\n",
      "24/24 [==============================] - 0s 7ms/step - loss: 0.2768 - accuracy: 0.8551 - val_loss: 0.5174 - val_accuracy: 0.4538\n",
      "Epoch 45/50\n",
      "24/24 [==============================] - 0s 7ms/step - loss: 0.5277 - accuracy: 0.5995 - val_loss: 0.3341 - val_accuracy: 0.8769\n",
      "Epoch 46/50\n",
      "24/24 [==============================] - 0s 7ms/step - loss: 0.4115 - accuracy: 0.8190 - val_loss: 0.3386 - val_accuracy: 0.8846\n",
      "Epoch 47/50\n",
      "24/24 [==============================] - 0s 7ms/step - loss: 0.3812 - accuracy: 0.8276 - val_loss: 0.4263 - val_accuracy: 0.8462\n",
      "Epoch 48/50\n",
      "24/24 [==============================] - 0s 7ms/step - loss: 0.3705 - accuracy: 0.8491 - val_loss: 0.4419 - val_accuracy: 0.8462\n",
      "Epoch 49/50\n",
      "24/24 [==============================] - 0s 7ms/step - loss: 0.3271 - accuracy: 0.8834 - val_loss: 0.2734 - val_accuracy: 0.9154\n",
      "Epoch 50/50\n",
      "24/24 [==============================] - 0s 7ms/step - loss: 0.3693 - accuracy: 0.8576 - val_loss: 0.2265 - val_accuracy: 0.8692\n"
     ]
    }
   ],
   "source": [
    "history = model.fit(x_train, y_train, batch_size = 50, epochs = 50, validation_split = 0.1)"
   ]
  },
  {
   "cell_type": "code",
   "execution_count": 9,
   "id": "fee599e5",
   "metadata": {
    "scrolled": false
   },
   "outputs": [
    {
     "data": {
      "image/png": "[encoded data removed]",
      "text/plain": [
       "<Figure size 1080x432 with 1 Axes>"
      ]
     },
     "metadata": {
      "needs_background": "light"
     },
     "output_type": "display_data"
    }
   ],
   "source": [
    "show_accuracy(history)"
   ]
  },
  {
   "cell_type": "code",
   "execution_count": 10,
   "id": "c9ea11c9",
   "metadata": {},
   "outputs": [
    {
     "name": "stdout",
     "output_type": "stream",
     "text": [
      "5/5 [==============================] - 0s 2ms/step - loss: 0.2613 - accuracy: 0.8750\n"
     ]
    }
   ],
   "source": [
    "pred = model.evaluate(x_val, y_val)"
   ]
  },
  {
   "cell_type": "markdown",
   "id": "fca71b14",
   "metadata": {},
   "source": [
    "### Sample Audio recording"
   ]
  },
  {
   "cell_type": "code",
   "execution_count": 11,
   "id": "37439375",
   "metadata": {},
   "outputs": [
    {
     "name": "stdout",
     "output_type": "stream",
     "text": [
      "* recording\n",
      "* data recording\n"
     ]
    }
   ],
   "source": [
    "sample_filename = audiowriter.write_audio()"
   ]
  },
  {
   "cell_type": "code",
   "execution_count": 16,
   "id": "9ad5984e",
   "metadata": {},
   "outputs": [
    {
     "name": "stdout",
     "output_type": "stream",
     "text": [
      "Gender definded - male / value = 0.059354960918426514\n"
     ]
    }
   ],
   "source": [
    "result = get_prediction(sample_filename, model)\n",
    "print(result)"
   ]
  }
 ],
 "metadata": {
  "kernelspec": {
   "display_name": "Python 3",
   "language": "python",
   "name": "python3"
  },
  "language_info": {
   "codemirror_mode": {
    "name": "ipython",
    "version": 3
   },
   "file_extension": ".py",
   "mimetype": "text/x-python",
   "name": "python",
   "nbconvert_exporter": "python",
   "pygments_lexer": "ipython3",
   "version": "3.8.8"
  }
 },
 "nbformat": 4,
 "nbformat_minor": 5
}
