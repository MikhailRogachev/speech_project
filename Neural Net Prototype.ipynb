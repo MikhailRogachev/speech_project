{
 "cells": [
  {
   "cell_type": "code",
   "execution_count": null,
   "id": "d45f5502",
   "metadata": {},
   "outputs": [],
   "source": [
    "import os, time, librosa, librosa.display\n",
    "import numpy as np\n",
    "import matplotlib.pyplot as plt\n",
    "import IPython.display as idp\n",
    "import sklearn\n",
    "\n",
    "from tqdm import tqdm\n",
    "from tensorflow.keras import utils"
   ]
  },
  {
   "cell_type": "code",
   "execution_count": null,
   "id": "7de1b50a",
   "metadata": {},
   "outputs": [],
   "source": [
    "root_path = 'DataSource'\n",
    "emotions_ref = [ 'Neutral', 'Calm', 'Happy', 'Sad', 'Angry', 'Fearful', 'Disgust', 'Surprised' ]"
   ]
  },
  {
   "cell_type": "markdown",
   "id": "597ee43a",
   "metadata": {},
   "source": [
    "#### Output data set:\n",
    "\n",
    "0. full file name\n",
    "1. emotion"
   ]
  },
  {
   "cell_type": "code",
   "execution_count": null,
   "id": "c8f3332b",
   "metadata": {},
   "outputs": [],
   "source": [
    "def create_source_dataset(root_path): \n",
    "    \n",
    "    current_time = time.time()    \n",
    "    ds = []\n",
    "    \n",
    "    # get absolute root folder path\n",
    "    root_abspath = os.path.join(os.path.abspath(os.getcwd()), root_path)    \n",
    "    root_dirs = [os.path.join(root_abspath, x) for x in os.listdir(root_path)] \n",
    "    \n",
    "    for root_dir in root_dirs:\n",
    "        \n",
    "        for file_src in os.listdir(root_dir):\n",
    "            # 0 element\n",
    "            file_path = os.path.join(root_dir, file_src)\n",
    "            # 3 emotion 6..8\n",
    "            emotion = int(file_src[6:8])\n",
    "                \n",
    "            ds.append([file_path, emotion ])\n",
    "            \n",
    "    assert len(ds) == 1440, 'it must be 1440 files in the source'\n",
    "    \n",
    "    print('Data source array is prepared - {} c'.format(time.time() - current_time))\n",
    "    \n",
    "    return df"
   ]
  },
  {
   "cell_type": "code",
   "execution_count": null,
   "id": "ff7e5e6e",
   "metadata": {},
   "outputs": [],
   "source": [
    "def get_features(y, sr):\n",
    "    out = []\n",
    "    \n",
    "    out.append(np.mean(librosa.feature.rms(y = y)))\n",
    "    out.append(np.mean(librosa.feature.spectral_centroid(y = y, sr = sr)))\n",
    "    out.append(np.mean(librosa.feature.spectral_bandwidth(y = y, sr = sr)))\n",
    "    out.append(np.mean(librosa.feature.spectral_rolloff(y = y, sr = sr))) \n",
    "    out.append(np.mean(librosa.feature.zero_crossing_rate(y)))\n",
    "    \n",
    "    for e in librosa.feature.mfcc(y = y, sr = sr):\n",
    "        out.append(np.min(e))\n",
    "        out.append(np.mean(e))\n",
    "        out.append(np.max(e))\n",
    "        \n",
    "   \n",
    "    for e in librosa.feature.chroma_stft(y = y, sr = sr):\n",
    "        out.append(np.min(e))\n",
    "        out.append(np.mean(e))\n",
    "        out.append(np.max(e))\n",
    "\n",
    "    return out"
   ]
  },
  {
   "cell_type": "code",
   "execution_count": null,
   "id": "b559676c",
   "metadata": {},
   "outputs": [],
   "source": [
    "def get_dataset(source):\n",
    "    \n",
    "    x_train = []\n",
    "    y_train = []\n",
    "    \n",
    "    for item in tqdm(source):\n",
    "        \n",
    "        try:\n",
    "            \n",
    "            # read the audio file\n",
    "            y, sr = read_audio(item[0])\n",
    "            \n",
    "            # append x_train item\n",
    "            x_train.append(get_features(y, sr))\n",
    "            y_train.append(utils.to_categorical(item[1], len(emotions_ref) + 1))\n",
    "            \n",
    "        except:\n",
    "            \n",
    "            print(f'Invalid object {item[0]}')\n",
    "        \n",
    "        \n",
    "    return np.array(x_train), np.array(y_train)"
   ]
  }
 ],
 "metadata": {
  "kernelspec": {
   "display_name": "Python 3",
   "language": "python",
   "name": "python3"
  },
  "language_info": {
   "codemirror_mode": {
    "name": "ipython",
    "version": 3
   },
   "file_extension": ".py",
   "mimetype": "text/x-python",
   "name": "python",
   "nbconvert_exporter": "python",
   "pygments_lexer": "ipython3",
   "version": "3.8.8"
  }
 },
 "nbformat": 4,
 "nbformat_minor": 5
}
