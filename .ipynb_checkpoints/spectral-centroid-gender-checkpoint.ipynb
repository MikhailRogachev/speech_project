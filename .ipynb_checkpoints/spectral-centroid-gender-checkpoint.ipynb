{
 "cells": [
  {
   "cell_type": "code",
   "execution_count": null,
   "id": "68db465e",
   "metadata": {},
   "outputs": [],
   "source": [
    "import os, time, librosa, librosa.display\n",
    "import pandas as pd\n",
    "import numpy as np\n",
    "import matplotlib.pyplot as plt\n",
    "from tqdm import tqdm\n",
    "from tensorflow.keras import utils\n",
    "\n",
    "import audio_data_loader as audioloader\n",
    "import references as ref"
   ]
  },
  {
   "cell_type": "code",
   "execution_count": null,
   "id": "71a1a6a9",
   "metadata": {},
   "outputs": [],
   "source": [
    "source = audioloader.create_source_dataset(ref.root_path)"
   ]
  },
  {
   "cell_type": "markdown",
   "id": "5cf5848f",
   "metadata": {},
   "source": [
    "#### Output data set:\n",
    "\n",
    "0. full file name\n",
    "1. modality\n",
    "2. vocal chanel\n",
    "3. emotion\n",
    "4. emotional intensity\n",
    "5. statement\n",
    "6. repetitions\n",
    "7. actor index\n",
    "8. gender (1 - female, 0 - male)"
   ]
  },
  {
   "cell_type": "code",
   "execution_count": null,
   "id": "ba1218e0",
   "metadata": {},
   "outputs": [],
   "source": [
    "def get_features(y, sr):\n",
    "    out = []\n",
    "    \n",
    "    out.append(np.min(librosa.feature.spectral_centroid(y = y, sr = sr)))\n",
    "    out.append(np.mean(librosa.feature.spectral_centroid(y = y, sr = sr)))\n",
    "    out.append(np.max(librosa.feature.spectral_centroid(y = y, sr = sr)))\n",
    "\n",
    "    return out"
   ]
  },
  {
   "cell_type": "code",
   "execution_count": null,
   "id": "fda2e7ef",
   "metadata": {},
   "outputs": [],
   "source": [
    "def get_dataset(source):\n",
    "    \n",
    "    m_train = []\n",
    "    f_train = []\n",
    "    \n",
    "    for i, row in tqdm(source.iterrows()):\n",
    "        \n",
    "        try:\n",
    "            \n",
    "            # read the audio file\n",
    "            y, sr = audioloader.read_audio(row[0])\n",
    "            rms = get_features(y, sr)            \n",
    "            \n",
    "            # append \n",
    "            if row[8] == 1:\n",
    "                f_train.append([rms[0], rms[1], rms[2]])\n",
    "            else:\n",
    "                m_train.append([rms[0], rms[1], rms[2]])\n",
    "            \n",
    "        except:\n",
    "            \n",
    "            print(f'Invalid object index {i}')\n",
    "            print(row)\n",
    "        \n",
    "        \n",
    "    return np.array(f_train), np.array(m_train)"
   ]
  },
  {
   "cell_type": "code",
   "execution_count": null,
   "id": "3ad4ca73",
   "metadata": {},
   "outputs": [],
   "source": [
    "def show_diagram(x, y, title):\n",
    "    \n",
    "    fig, ax = plt.subplots(1, 3, figsize = (12, 6))\n",
    "    fig.tight_layout(pad = 3.0)\n",
    "    fig.suptitle(title, fontsize = 25, y = 1.1)\n",
    "    \n",
    "    if x.shape[0] > 0:\n",
    "        ax[0].plot(x[:, 0], color = 'blue', label = 'min rms - man')\n",
    "        ax[1].plot(x[:, 1], color = 'blue', label = 'mean rms - man')\n",
    "        ax[2].plot(y[:, 2], color = 'red', label = 'max rms - woman')\n",
    "        \n",
    "    if y.shape[0] > 0:\n",
    "        ax[0].plot(y[:, 0], color = 'red', label = 'min rms - woman')\n",
    "        ax[1].plot(y[:, 1], color = 'red', label = 'mean rms - woman')\n",
    "        ax[2].plot(x[:, 2], color = 'blue', label = 'max rms - man')\n",
    "        \n",
    "    ax[0].legend()\n",
    "    ax[1].legend()\n",
    "    ax[2].legend()\n",
    "    \n",
    "    plt.show()\n",
    "    "
   ]
  },
  {
   "cell_type": "code",
   "execution_count": null,
   "id": "a0c9d514",
   "metadata": {},
   "outputs": [],
   "source": [
    "def get_title(emotion_index,\n",
    "              intensity_index,\n",
    "              statement_index,\n",
    "              repetions_index):\n",
    "    \n",
    "    emotion = ref.emotions_ref[emotion_index - 1]\n",
    "    intensity = ref.emotional_intensity_ref[intensity_index - 1]\n",
    "    repetions = ref.repetition_ref[repetions_index - 1]\n",
    "    statement = ref.statement_ref[statement_index - 1]\n",
    "    \n",
    "    return f'{emotion}, {intensity}\\n{statement} - {repetions}'"
   ]
  },
  {
   "cell_type": "markdown",
   "id": "3c5a1516",
   "metadata": {},
   "source": [
    "# Data Processing and results population"
   ]
  },
  {
   "cell_type": "code",
   "execution_count": null,
   "id": "7b0b6ed5",
   "metadata": {},
   "outputs": [],
   "source": [
    "'''\n",
    "0 - emotion [1...8]\n",
    "1 - intensity [1, 2]\n",
    "2 - statement [1, 2]\n",
    "3 - repetions [1, 2]\n",
    "'''\n",
    "process_source = [[1,1,1,1],[2,1,1,1],[3,1,1,1],[4,1,1,1],[5,1,1,1],[6,1,1,1],[7,1,1,1],[8,1,1,1],\n",
    "                  [2,2,1,1],[3,2,1,1],[4,2,1,1],[5,2,1,1],[6,2,1,1],[7,2,1,1],[8,2,1,1],\n",
    "                  [1,1,2,1],[2,1,2,1],[3,1,2,1],[4,1,2,1],[5,1,2,1],[6,1,2,1],[7,1,2,1],[8,1,2,1],\n",
    "                  [1,1,1,2],[2,1,1,2],[3,1,1,2],[4,1,1,2],[5,1,1,2],[6,1,1,2],[7,1,1,2],[8,1,1,2],\n",
    "                  [2,2,2,1],[3,2,2,1],[4,2,2,1],[5,2,2,1],[6,2,2,1],[7,2,2,1],[8,2,2,1],\n",
    "                  [1,2,1,2],[2,2,1,2],[3,2,1,2],[4,2,1,2],[5,2,1,2],[6,2,1,2],[7,2,1,2],[8,2,1,2],\n",
    "                  [2,2,2,2],[3,2,2,2],[4,2,2,2],[5,2,2,2],[6,2,2,2],[7,2,2,2],[8,2,2,2]]"
   ]
  },
  {
   "cell_type": "code",
   "execution_count": null,
   "id": "758aab2b",
   "metadata": {
    "scrolled": false
   },
   "outputs": [],
   "source": [
    "for i in process_source:\n",
    "    \n",
    "    flt = 'Emotion == {} and EmotionalIntensity == {} and Statement == {} and Repetions == {}'.format(i[0], i[1], i[2], i[3])\n",
    "    df_source = source.query(flt)    \n",
    "    f_train, m_train = get_dataset(df_source)  \n",
    "    \n",
    "    show_diagram(m_train, f_train, get_title(i[0], i[1], i[2], i[3]))    "
   ]
  },
  {
   "cell_type": "code",
   "execution_count": null,
   "id": "cf0eb3dc",
   "metadata": {},
   "outputs": [],
   "source": []
  }
 ],
 "metadata": {
  "kernelspec": {
   "display_name": "Python 3",
   "language": "python",
   "name": "python3"
  },
  "language_info": {
   "codemirror_mode": {
    "name": "ipython",
    "version": 3
   },
   "file_extension": ".py",
   "mimetype": "text/x-python",
   "name": "python",
   "nbconvert_exporter": "python",
   "pygments_lexer": "ipython3",
   "version": "3.8.8"
  }
 },
 "nbformat": 4,
 "nbformat_minor": 5
}
