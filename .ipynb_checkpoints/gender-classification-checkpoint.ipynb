{
 "cells": [
  {
   "cell_type": "code",
   "execution_count": 17,
   "id": "ae432ee8",
   "metadata": {},
   "outputs": [],
   "source": [
    "import os, time, librosa, librosa.display\n",
    "import pandas as pd\n",
    "import numpy as np\n",
    "import matplotlib.pyplot as plt\n",
    "from tqdm import tqdm\n",
    "from tensorflow.keras import utils\n",
    "from sklearn.model_selection import train_test_split\n",
    "\n",
    "from tensorflow.keras.layers import Input, Dense, Dropout\n",
    "from tensorflow.keras.models import Sequential\n",
    "from tensorflow.keras.optimizers import RMSprop, Adam\n",
    "\n",
    "import audio_data_loader as audioloader\n",
    "import references as ref"
   ]
  },
  {
   "cell_type": "code",
   "execution_count": 2,
   "id": "f0e2017a",
   "metadata": {},
   "outputs": [],
   "source": [
    "def get_features(y, sr):\n",
    "    out = []\n",
    "    \n",
    "    out.append(np.mean(librosa.feature.rms(y = y)))\n",
    "    out.append(np.mean(librosa.feature.spectral_centroid(y = y, sr = sr)))\n",
    "    out.append(np.mean(librosa.feature.spectral_bandwidth(y = y, sr = sr)))\n",
    "    out.append(np.mean(librosa.feature.spectral_rolloff(y = y, sr = sr))) \n",
    "    out.append(np.mean(librosa.feature.zero_crossing_rate(y)))\n",
    "    \n",
    "    for e in librosa.feature.mfcc(y = y, sr = sr):\n",
    "        out.append(np.min(e))\n",
    "        out.append(np.mean(e))\n",
    "        out.append(np.max(e))\n",
    "        \n",
    "   \n",
    "    for e in librosa.feature.chroma_stft(y = y, sr = sr):\n",
    "        out.append(np.min(e))\n",
    "        out.append(np.mean(e))\n",
    "        out.append(np.max(e))\n",
    "\n",
    "    return out"
   ]
  },
  {
   "cell_type": "code",
   "execution_count": 3,
   "id": "418d2a34",
   "metadata": {},
   "outputs": [],
   "source": [
    "def get_dataset(source):\n",
    "    \n",
    "    x_train = []\n",
    "    y_train = []\n",
    "    \n",
    "    for i, item in tqdm(source.iterrows()):\n",
    "        \n",
    "        try:\n",
    "            # read the audio file\n",
    "            y, sr = audioloader.read_audio(item[0])\n",
    "            \n",
    "            # append x_train item\n",
    "            x_train.append(get_features(y, sr))\n",
    "            y_train.append(utils.to_categorical(item[8], len(ref.gender_ref) + 1))\n",
    "            \n",
    "        except:\n",
    "            \n",
    "            print(f'Invalid object {item[0]}')\n",
    "        \n",
    "        \n",
    "    return np.array(x_train), np.array(y_train)"
   ]
  },
  {
   "cell_type": "code",
   "execution_count": 4,
   "id": "b9a1c6b6",
   "metadata": {},
   "outputs": [
    {
     "name": "stdout",
     "output_type": "stream",
     "text": [
      "Data source array is prepared - 0.03191423416137695 c\n"
     ]
    }
   ],
   "source": [
    "source = audioloader.create_source_dataset(ref.root_path)"
   ]
  },
  {
   "cell_type": "code",
   "execution_count": 5,
   "id": "0e7bffc6",
   "metadata": {
    "scrolled": true
   },
   "outputs": [
    {
     "name": "stderr",
     "output_type": "stream",
     "text": [
      "1440it [03:59,  6.02it/s]\n"
     ]
    }
   ],
   "source": [
    "x, y = get_dataset(source)"
   ]
  },
  {
   "cell_type": "code",
   "execution_count": 6,
   "id": "5a9b5a72",
   "metadata": {},
   "outputs": [],
   "source": [
    "x_train, x_val, y_train, y_val = train_test_split(x, y, test_size=0.1, random_state = 42, shuffle = True)"
   ]
  },
  {
   "cell_type": "code",
   "execution_count": 7,
   "id": "a6e3cfb2",
   "metadata": {},
   "outputs": [
    {
     "name": "stdout",
     "output_type": "stream",
     "text": [
      "(1296, 101)\n",
      "(144, 101)\n",
      "(1296, 3)\n",
      "(144, 3)\n"
     ]
    }
   ],
   "source": [
    "print(x_train.shape)\n",
    "print(x_val.shape)\n",
    "print(y_train.shape)\n",
    "print(y_val.shape)"
   ]
  },
  {
   "cell_type": "code",
   "execution_count": 20,
   "id": "6c2417ef",
   "metadata": {},
   "outputs": [],
   "source": [
    "model = Sequential()\n",
    "model.add(Dense(200, activation = 'relu', input_shape=(101,)))\n",
    "model.add(Dense(120, activation = 'relu'))\n",
    "model.add(Dropout(0.2))\n",
    "model.add(Dense(32, activation = 'relu'))\n",
    "model.add(Dense(3, activation = 'softmax'))\n",
    "\n",
    "model.compile(optimizer = Adam(learning_rate = 0.001),\n",
    "                  loss = 'categorical_crossentropy',\n",
    "                  metrics = ['accuracy'])"
   ]
  },
  {
   "cell_type": "code",
   "execution_count": 21,
   "id": "013a5587",
   "metadata": {
    "scrolled": false
   },
   "outputs": [
    {
     "name": "stdout",
     "output_type": "stream",
     "text": [
      "Epoch 1/50\n",
      "24/24 [==============================] - 0s 6ms/step - loss: 88.3534 - accuracy: 0.4949 - val_loss: 19.5010 - val_accuracy: 0.5538\n",
      "Epoch 2/50\n",
      "24/24 [==============================] - 0s 2ms/step - loss: 30.7188 - accuracy: 0.5532 - val_loss: 4.3032 - val_accuracy: 0.6692\n",
      "Epoch 3/50\n",
      "24/24 [==============================] - 0s 2ms/step - loss: 11.7489 - accuracy: 0.6381 - val_loss: 2.6604 - val_accuracy: 0.8154\n",
      "Epoch 4/50\n",
      "24/24 [==============================] - 0s 2ms/step - loss: 6.5884 - accuracy: 0.7127 - val_loss: 5.0589 - val_accuracy: 0.6846\n",
      "Epoch 5/50\n",
      "24/24 [==============================] - 0s 2ms/step - loss: 4.6822 - accuracy: 0.7367 - val_loss: 10.5510 - val_accuracy: 0.6462\n",
      "Epoch 6/50\n",
      "24/24 [==============================] - 0s 2ms/step - loss: 4.2936 - accuracy: 0.7693 - val_loss: 3.8300 - val_accuracy: 0.7231\n",
      "Epoch 7/50\n",
      "24/24 [==============================] - 0s 2ms/step - loss: 2.1622 - accuracy: 0.7959 - val_loss: 0.8072 - val_accuracy: 0.8692\n",
      "Epoch 8/50\n",
      "24/24 [==============================] - 0s 2ms/step - loss: 1.6779 - accuracy: 0.7830 - val_loss: 0.2265 - val_accuracy: 0.9154\n",
      "Epoch 9/50\n",
      "24/24 [==============================] - 0s 2ms/step - loss: 1.1615 - accuracy: 0.8053 - val_loss: 0.3039 - val_accuracy: 0.8615\n",
      "Epoch 10/50\n",
      "24/24 [==============================] - 0s 2ms/step - loss: 0.9231 - accuracy: 0.8087 - val_loss: 0.3392 - val_accuracy: 0.8923\n",
      "Epoch 11/50\n",
      "24/24 [==============================] - 0s 2ms/step - loss: 0.6752 - accuracy: 0.8499 - val_loss: 1.2400 - val_accuracy: 0.8077\n",
      "Epoch 12/50\n",
      "24/24 [==============================] - 0s 2ms/step - loss: 0.9022 - accuracy: 0.8087 - val_loss: 0.2604 - val_accuracy: 0.8846\n",
      "Epoch 13/50\n",
      "24/24 [==============================] - 0s 2ms/step - loss: 0.6518 - accuracy: 0.8362 - val_loss: 0.2497 - val_accuracy: 0.8846\n",
      "Epoch 14/50\n",
      "24/24 [==============================] - 0s 2ms/step - loss: 0.5069 - accuracy: 0.8542 - val_loss: 0.5456 - val_accuracy: 0.8385\n",
      "Epoch 15/50\n",
      "24/24 [==============================] - 0s 2ms/step - loss: 0.5119 - accuracy: 0.8362 - val_loss: 0.2602 - val_accuracy: 0.9077\n",
      "Epoch 16/50\n",
      "24/24 [==============================] - 0s 2ms/step - loss: 0.4405 - accuracy: 0.8525 - val_loss: 0.2046 - val_accuracy: 0.9154\n",
      "Epoch 17/50\n",
      "24/24 [==============================] - 0s 2ms/step - loss: 0.3608 - accuracy: 0.8799 - val_loss: 0.2000 - val_accuracy: 0.9077\n",
      "Epoch 18/50\n",
      "24/24 [==============================] - 0s 2ms/step - loss: 0.4120 - accuracy: 0.8448 - val_loss: 0.2803 - val_accuracy: 0.8692\n",
      "Epoch 19/50\n",
      "24/24 [==============================] - 0s 2ms/step - loss: 0.4396 - accuracy: 0.8654 - val_loss: 0.2016 - val_accuracy: 0.9000\n",
      "Epoch 20/50\n",
      "24/24 [==============================] - 0s 2ms/step - loss: 0.2830 - accuracy: 0.8997 - val_loss: 0.2415 - val_accuracy: 0.8923\n",
      "Epoch 21/50\n",
      "24/24 [==============================] - 0s 2ms/step - loss: 0.3023 - accuracy: 0.8842 - val_loss: 0.1723 - val_accuracy: 0.9385\n",
      "Epoch 22/50\n",
      "24/24 [==============================] - 0s 2ms/step - loss: 0.4219 - accuracy: 0.8285 - val_loss: 0.2656 - val_accuracy: 0.9000\n",
      "Epoch 23/50\n",
      "24/24 [==============================] - 0s 2ms/step - loss: 0.3852 - accuracy: 0.8353 - val_loss: 0.2280 - val_accuracy: 0.9077\n",
      "Epoch 24/50\n",
      "24/24 [==============================] - 0s 2ms/step - loss: 0.2900 - accuracy: 0.8593 - val_loss: 0.1744 - val_accuracy: 0.9308\n",
      "Epoch 25/50\n",
      "24/24 [==============================] - 0s 2ms/step - loss: 0.3317 - accuracy: 0.8551 - val_loss: 0.2340 - val_accuracy: 0.9077\n",
      "Epoch 26/50\n",
      "24/24 [==============================] - 0s 2ms/step - loss: 0.3346 - accuracy: 0.8568 - val_loss: 0.1940 - val_accuracy: 0.9538\n",
      "Epoch 27/50\n",
      "24/24 [==============================] - 0s 2ms/step - loss: 0.2786 - accuracy: 0.8705 - val_loss: 0.1541 - val_accuracy: 0.9462\n",
      "Epoch 28/50\n",
      "24/24 [==============================] - 0s 2ms/step - loss: 0.2381 - accuracy: 0.8937 - val_loss: 0.2204 - val_accuracy: 0.9077\n",
      "Epoch 29/50\n",
      "24/24 [==============================] - 0s 2ms/step - loss: 0.2269 - accuracy: 0.9014 - val_loss: 0.1657 - val_accuracy: 0.9385\n",
      "Epoch 30/50\n",
      "24/24 [==============================] - 0s 3ms/step - loss: 0.2559 - accuracy: 0.8791 - val_loss: 0.2339 - val_accuracy: 0.8615\n",
      "Epoch 31/50\n",
      "24/24 [==============================] - 0s 2ms/step - loss: 0.3220 - accuracy: 0.8722 - val_loss: 0.2151 - val_accuracy: 0.9000\n",
      "Epoch 32/50\n",
      "24/24 [==============================] - 0s 2ms/step - loss: 0.2717 - accuracy: 0.8842 - val_loss: 0.1374 - val_accuracy: 0.9615\n",
      "Epoch 33/50\n",
      "24/24 [==============================] - 0s 3ms/step - loss: 0.2170 - accuracy: 0.9022 - val_loss: 0.1939 - val_accuracy: 0.8923\n",
      "Epoch 34/50\n",
      "24/24 [==============================] - 0s 2ms/step - loss: 0.2628 - accuracy: 0.8825 - val_loss: 0.2820 - val_accuracy: 0.9000\n",
      "Epoch 35/50\n",
      "24/24 [==============================] - 0s 2ms/step - loss: 0.2455 - accuracy: 0.9074 - val_loss: 0.1291 - val_accuracy: 0.9615\n",
      "Epoch 36/50\n",
      "24/24 [==============================] - 0s 2ms/step - loss: 0.2579 - accuracy: 0.8816 - val_loss: 0.1785 - val_accuracy: 0.9308\n",
      "Epoch 37/50\n",
      "24/24 [==============================] - 0s 2ms/step - loss: 0.2376 - accuracy: 0.8928 - val_loss: 0.1729 - val_accuracy: 0.9692\n",
      "Epoch 38/50\n",
      "24/24 [==============================] - 0s 2ms/step - loss: 0.2360 - accuracy: 0.9014 - val_loss: 0.2265 - val_accuracy: 0.9077\n",
      "Epoch 39/50\n",
      "24/24 [==============================] - 0s 2ms/step - loss: 0.2663 - accuracy: 0.8911 - val_loss: 0.2117 - val_accuracy: 0.9000\n",
      "Epoch 40/50\n",
      "24/24 [==============================] - 0s 3ms/step - loss: 0.2447 - accuracy: 0.9014 - val_loss: 0.1389 - val_accuracy: 0.9462\n",
      "Epoch 41/50\n",
      "24/24 [==============================] - 0s 2ms/step - loss: 0.2519 - accuracy: 0.8885 - val_loss: 0.1823 - val_accuracy: 0.9154\n",
      "Epoch 42/50\n",
      "24/24 [==============================] - 0s 2ms/step - loss: 0.2678 - accuracy: 0.8739 - val_loss: 0.1328 - val_accuracy: 0.9462\n",
      "Epoch 43/50\n",
      "24/24 [==============================] - 0s 2ms/step - loss: 0.2463 - accuracy: 0.8997 - val_loss: 0.1182 - val_accuracy: 0.9538\n",
      "Epoch 44/50\n",
      "24/24 [==============================] - 0s 2ms/step - loss: 0.2348 - accuracy: 0.9048 - val_loss: 0.1072 - val_accuracy: 0.9692\n",
      "Epoch 45/50\n",
      "24/24 [==============================] - 0s 2ms/step - loss: 0.2087 - accuracy: 0.9048 - val_loss: 0.1359 - val_accuracy: 0.9769\n",
      "Epoch 46/50\n",
      "24/24 [==============================] - 0s 2ms/step - loss: 0.2054 - accuracy: 0.9211 - val_loss: 0.1543 - val_accuracy: 0.9385\n",
      "Epoch 47/50\n",
      "24/24 [==============================] - 0s 2ms/step - loss: 0.2308 - accuracy: 0.8962 - val_loss: 0.1591 - val_accuracy: 0.9385\n",
      "Epoch 48/50\n",
      "24/24 [==============================] - 0s 2ms/step - loss: 0.2186 - accuracy: 0.8971 - val_loss: 0.2003 - val_accuracy: 0.9308\n",
      "Epoch 49/50\n",
      "24/24 [==============================] - 0s 2ms/step - loss: 0.2365 - accuracy: 0.8756 - val_loss: 0.1121 - val_accuracy: 0.9462\n",
      "Epoch 50/50\n",
      "24/24 [==============================] - 0s 2ms/step - loss: 0.2130 - accuracy: 0.8851 - val_loss: 0.1170 - val_accuracy: 0.9462\n"
     ]
    },
    {
     "data": {
      "text/plain": [
       "<keras.callbacks.History at 0x1a11a8dc820>"
      ]
     },
     "execution_count": 21,
     "metadata": {},
     "output_type": "execute_result"
    }
   ],
   "source": [
    "model.fit(x_train, y_train, batch_size = 50, epochs = 50, validation_split = 0.1)"
   ]
  },
  {
   "cell_type": "code",
   "execution_count": 22,
   "id": "c9ea11c9",
   "metadata": {},
   "outputs": [
    {
     "name": "stdout",
     "output_type": "stream",
     "text": [
      "5/5 [==============================] - 0s 1ms/step - loss: 0.0910 - accuracy: 0.9653\n"
     ]
    }
   ],
   "source": [
    "pred = model.evaluate(x_val, y_val)"
   ]
  },
  {
   "cell_type": "code",
   "execution_count": null,
   "id": "eadf410a",
   "metadata": {},
   "outputs": [],
   "source": []
  }
 ],
 "metadata": {
  "kernelspec": {
   "display_name": "Python 3",
   "language": "python",
   "name": "python3"
  },
  "language_info": {
   "codemirror_mode": {
    "name": "ipython",
    "version": 3
   },
   "file_extension": ".py",
   "mimetype": "text/x-python",
   "name": "python",
   "nbconvert_exporter": "python",
   "pygments_lexer": "ipython3",
   "version": "3.8.8"
  }
 },
 "nbformat": 4,
 "nbformat_minor": 5
}
