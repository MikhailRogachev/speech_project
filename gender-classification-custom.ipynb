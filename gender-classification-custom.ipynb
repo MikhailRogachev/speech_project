{
 "cells": [
  {
   "cell_type": "code",
   "execution_count": 17,
   "id": "9f8f635a",
   "metadata": {},
   "outputs": [],
   "source": [
    "import os, time, librosa, librosa.display\n",
    "import pandas as pd\n",
    "import numpy as np\n",
    "import matplotlib.pyplot as plt\n",
    "from sklearn.model_selection import train_test_split\n",
    "\n",
    "from tensorflow.keras.layers import Input, Dense, Dropout, Concatenate, Conv1D, MaxPooling1D, GlobalAveragePooling1D, Flatten\n",
    "from tensorflow.keras.models import Sequential, Model\n",
    "from tensorflow.keras.optimizers import RMSprop, Adam\n",
    "\n",
    "import audio_data_loader as audioloader\n",
    "import audio_data_writer as audiowriter\n",
    "import dataset_loader as dataset\n",
    "import references as ref"
   ]
  },
  {
   "cell_type": "markdown",
   "id": "781f37cb",
   "metadata": {},
   "source": [
    "### Neural network model builder"
   ]
  },
  {
   "cell_type": "code",
   "execution_count": 15,
   "id": "796fd389",
   "metadata": {},
   "outputs": [],
   "source": [
    "class GendersDefinition(Model):\n",
    "    \n",
    "    def __init__(self, audio_shape):\n",
    "        super(GendersDefinition, self).__init__()\n",
    "        \n",
    "        self.layer_input = Input((audio_shape, 1))\n",
    "        self.flatten = Flatten()\n",
    "        self.layer_001 = Dense(400, activation = 'relu')\n",
    "        self.layer_002 = Dense(320, activation = 'relu')\n",
    "        self.layer_003 = Dropout(0.2)\n",
    "        self.layer_004 = Dense(100, activation = 'relu')\n",
    "        self.layer_output = Dense(1, activation = 'sigmoid')\n",
    "        \n",
    "    def call(self, inputs):\n",
    "        #x = self.layer_input(inputs)\n",
    "        x = self.layer_001(inputs)\n",
    "        x = self.flatten(x)\n",
    "        x = self.layer_002(x)\n",
    "        x = self.layer_003(x)\n",
    "        x = self.layer_004(x)\n",
    "        \n",
    "        return self.layer_output(x)"
   ]
  },
  {
   "cell_type": "code",
   "execution_count": 33,
   "id": "7f721b7d",
   "metadata": {},
   "outputs": [],
   "source": [
    "def get_prediction(sample_path, model):\n",
    "    \n",
    "    y, sr = audioloader.read_audio(sample_path)\n",
    "    \n",
    "    sound_sample = dataset.get_features(y, sr)\n",
    "    sound_sample = np.array(sound_sample)\n",
    "    \n",
    "    \n",
    "    \n",
    "    x = np.expand_dims(sound_sample, axis = 0)\n",
    "    x = np.expand_dims(x, axis = 2)    \n",
    "    print(x.shape)\n",
    "    \n",
    "    y_pred = model.predict(x)\n",
    "    value = y_pred[0][0]\n",
    "    index = round(value)\n",
    "    \n",
    "    return 'Gender definded - {} / value = {}'.format(ref.gender_ref[index], value)"
   ]
  },
  {
   "cell_type": "markdown",
   "id": "9ddd56cc",
   "metadata": {},
   "source": [
    "### Visualizations"
   ]
  },
  {
   "cell_type": "code",
   "execution_count": 4,
   "id": "e0b3d9e6",
   "metadata": {},
   "outputs": [],
   "source": [
    "def show_accuracy(data):\n",
    "    \n",
    "    fig, ax = plt.subplots(figsize = (15, 6))\n",
    "    \n",
    "    ax.plot(data.epoch, data.history['accuracy'], label = 'Accuracy')\n",
    "    ax.plot(data.epoch, data.history['val_accuracy'], label = 'Validation Accuracy')\n",
    "    \n",
    "    plt.legend()\n",
    "    plt.show()"
   ]
  },
  {
   "cell_type": "markdown",
   "id": "9e0c1e95",
   "metadata": {},
   "source": [
    "### Training process"
   ]
  },
  {
   "cell_type": "code",
   "execution_count": 5,
   "id": "c3c93fc3",
   "metadata": {},
   "outputs": [
    {
     "name": "stdout",
     "output_type": "stream",
     "text": [
      "Data source array is prepared - 0.01710057258605957 c\n"
     ]
    }
   ],
   "source": [
    "source = audioloader.create_source_dataset(ref.root_path)"
   ]
  },
  {
   "cell_type": "code",
   "execution_count": 6,
   "id": "6748892e",
   "metadata": {},
   "outputs": [
    {
     "name": "stderr",
     "output_type": "stream",
     "text": [
      "1440it [11:57,  2.01it/s]\n"
     ]
    }
   ],
   "source": [
    "x_train, x_val, y_train, y_val = dataset.get_dataset(source)"
   ]
  },
  {
   "cell_type": "code",
   "execution_count": 7,
   "id": "6e5497f6",
   "metadata": {},
   "outputs": [],
   "source": [
    "x_train = np.expand_dims(x_train, axis = 2)\n",
    "x_val = np.expand_dims(x_val, axis = 2)"
   ]
  },
  {
   "cell_type": "code",
   "execution_count": 8,
   "id": "9d1df2b6",
   "metadata": {},
   "outputs": [
    {
     "name": "stdout",
     "output_type": "stream",
     "text": [
      "(1296, 101, 1)\n",
      "(144, 101, 1)\n",
      "(1296,)\n",
      "(144,)\n"
     ]
    }
   ],
   "source": [
    "print(x_train.shape)\n",
    "print(x_val.shape)\n",
    "print(y_train.shape)\n",
    "print(y_val.shape)"
   ]
  },
  {
   "cell_type": "code",
   "execution_count": 18,
   "id": "0163f984",
   "metadata": {},
   "outputs": [],
   "source": [
    "model = GendersDefinition(x_train.shape[1])"
   ]
  },
  {
   "cell_type": "code",
   "execution_count": 19,
   "id": "af6fc4a0",
   "metadata": {},
   "outputs": [],
   "source": [
    "model.compile(optimizer = Adam(learning_rate = 0.001),\n",
    "                  loss = 'binary_crossentropy',\n",
    "                  metrics = ['accuracy'])"
   ]
  },
  {
   "cell_type": "code",
   "execution_count": 20,
   "id": "7abb4723",
   "metadata": {},
   "outputs": [
    {
     "name": "stdout",
     "output_type": "stream",
     "text": [
      "Epoch 1/50\n",
      "24/24 [==============================] - 4s 124ms/step - loss: 33.7670 - accuracy: 0.5523 - val_loss: 2.5956 - val_accuracy: 0.6615\n",
      "Epoch 2/50\n",
      "24/24 [==============================] - 3s 112ms/step - loss: 4.1174 - accuracy: 0.6355 - val_loss: 0.5583 - val_accuracy: 0.8231\n",
      "Epoch 3/50\n",
      "24/24 [==============================] - 2s 91ms/step - loss: 1.5618 - accuracy: 0.7564 - val_loss: 0.5074 - val_accuracy: 0.8385\n",
      "Epoch 4/50\n",
      "24/24 [==============================] - 3s 112ms/step - loss: 0.9327 - accuracy: 0.7693 - val_loss: 0.2970 - val_accuracy: 0.8769\n",
      "Epoch 5/50\n",
      "24/24 [==============================] - 3s 114ms/step - loss: 0.4560 - accuracy: 0.8285 - val_loss: 0.2773 - val_accuracy: 0.8923\n",
      "Epoch 6/50\n",
      "24/24 [==============================] - 3s 110ms/step - loss: 0.2858 - accuracy: 0.8894 - val_loss: 0.2898 - val_accuracy: 0.9154\n",
      "Epoch 7/50\n",
      "24/24 [==============================] - 3s 110ms/step - loss: 0.3347 - accuracy: 0.8671 - val_loss: 0.2967 - val_accuracy: 0.8923\n",
      "Epoch 8/50\n",
      "24/24 [==============================] - 3s 113ms/step - loss: 0.2427 - accuracy: 0.8979 - val_loss: 0.2184 - val_accuracy: 0.9231\n",
      "Epoch 9/50\n",
      "24/24 [==============================] - 2s 89ms/step - loss: 0.2394 - accuracy: 0.9065 - val_loss: 0.2624 - val_accuracy: 0.8538\n",
      "Epoch 10/50\n",
      "24/24 [==============================] - 3s 112ms/step - loss: 0.2808 - accuracy: 0.8799 - val_loss: 0.3565 - val_accuracy: 0.8308\n",
      "Epoch 11/50\n",
      "24/24 [==============================] - 3s 112ms/step - loss: 0.3223 - accuracy: 0.8748 - val_loss: 0.3053 - val_accuracy: 0.9077\n",
      "Epoch 12/50\n",
      "24/24 [==============================] - 3s 110ms/step - loss: 0.3116 - accuracy: 0.8491 - val_loss: 0.1597 - val_accuracy: 0.9538\n",
      "Epoch 13/50\n",
      "24/24 [==============================] - 3s 112ms/step - loss: 0.3871 - accuracy: 0.7513 - val_loss: 0.4890 - val_accuracy: 0.4538\n",
      "Epoch 14/50\n",
      "24/24 [==============================] - 3s 113ms/step - loss: 0.3834 - accuracy: 0.7333 - val_loss: 0.2773 - val_accuracy: 0.9000\n",
      "Epoch 15/50\n",
      "24/24 [==============================] - 2s 96ms/step - loss: 0.3217 - accuracy: 0.7976 - val_loss: 0.2526 - val_accuracy: 0.8769\n",
      "Epoch 16/50\n",
      "24/24 [==============================] - 3s 110ms/step - loss: 0.2705 - accuracy: 0.8285 - val_loss: 0.1769 - val_accuracy: 0.9462\n",
      "Epoch 17/50\n",
      "24/24 [==============================] - 3s 112ms/step - loss: 0.3425 - accuracy: 0.7882 - val_loss: 0.3376 - val_accuracy: 0.8231\n",
      "Epoch 18/50\n",
      "24/24 [==============================] - 3s 110ms/step - loss: 0.2429 - accuracy: 0.8765 - val_loss: 0.2675 - val_accuracy: 0.9462\n",
      "Epoch 19/50\n",
      "24/24 [==============================] - 3s 109ms/step - loss: 0.2917 - accuracy: 0.8508 - val_loss: 0.1417 - val_accuracy: 0.9692\n",
      "Epoch 20/50\n",
      "24/24 [==============================] - 3s 114ms/step - loss: 0.2313 - accuracy: 0.8739 - val_loss: 0.1315 - val_accuracy: 0.9538\n",
      "Epoch 21/50\n",
      "24/24 [==============================] - 2s 92ms/step - loss: 0.2040 - accuracy: 0.8739 - val_loss: 0.1052 - val_accuracy: 0.9769\n",
      "Epoch 22/50\n",
      "24/24 [==============================] - 3s 109ms/step - loss: 0.1892 - accuracy: 0.8816 - val_loss: 0.1472 - val_accuracy: 0.9385\n",
      "Epoch 23/50\n",
      "24/24 [==============================] - 3s 112ms/step - loss: 0.2495 - accuracy: 0.8499 - val_loss: 0.1058 - val_accuracy: 0.9615\n",
      "Epoch 24/50\n",
      "24/24 [==============================] - 3s 111ms/step - loss: 0.2234 - accuracy: 0.8619 - val_loss: 0.2645 - val_accuracy: 0.9000\n",
      "Epoch 25/50\n",
      "24/24 [==============================] - 3s 112ms/step - loss: 0.2324 - accuracy: 0.8628 - val_loss: 0.2166 - val_accuracy: 0.9308\n",
      "Epoch 26/50\n",
      "24/24 [==============================] - 3s 111ms/step - loss: 0.2611 - accuracy: 0.8611 - val_loss: 0.0953 - val_accuracy: 0.9615\n",
      "Epoch 27/50\n",
      "24/24 [==============================] - 2s 99ms/step - loss: 0.3514 - accuracy: 0.7539 - val_loss: 0.4647 - val_accuracy: 0.5000\n",
      "Epoch 28/50\n",
      "24/24 [==============================] - 2s 103ms/step - loss: 0.3036 - accuracy: 0.7796 - val_loss: 0.0959 - val_accuracy: 0.9615\n",
      "Epoch 29/50\n",
      "24/24 [==============================] - 3s 114ms/step - loss: 0.2002 - accuracy: 0.8654 - val_loss: 0.1152 - val_accuracy: 0.9538\n",
      "Epoch 30/50\n",
      "24/24 [==============================] - 3s 112ms/step - loss: 0.2131 - accuracy: 0.8636 - val_loss: 0.0755 - val_accuracy: 0.9769\n",
      "Epoch 31/50\n",
      "24/24 [==============================] - 3s 113ms/step - loss: 0.1923 - accuracy: 0.8705 - val_loss: 0.1726 - val_accuracy: 0.9385\n",
      "Epoch 32/50\n",
      "24/24 [==============================] - 3s 113ms/step - loss: 0.2384 - accuracy: 0.8491 - val_loss: 0.1789 - val_accuracy: 0.8769\n",
      "Epoch 33/50\n",
      "24/24 [==============================] - 2s 100ms/step - loss: 0.2727 - accuracy: 0.8619 - val_loss: 0.2502 - val_accuracy: 0.8308\n",
      "Epoch 34/50\n",
      "24/24 [==============================] - 2s 100ms/step - loss: 0.2378 - accuracy: 0.8739 - val_loss: 0.1069 - val_accuracy: 0.9538\n",
      "Epoch 35/50\n",
      "24/24 [==============================] - 3s 115ms/step - loss: 0.1918 - accuracy: 0.8816 - val_loss: 0.0789 - val_accuracy: 0.9615\n",
      "Epoch 36/50\n",
      "24/24 [==============================] - 3s 110ms/step - loss: 0.1878 - accuracy: 0.8808 - val_loss: 0.1124 - val_accuracy: 0.9538\n",
      "Epoch 37/50\n",
      "24/24 [==============================] - 3s 109ms/step - loss: 0.1831 - accuracy: 0.8911 - val_loss: 0.0756 - val_accuracy: 0.9769\n",
      "Epoch 38/50\n",
      "24/24 [==============================] - 3s 109ms/step - loss: 0.1925 - accuracy: 0.8765 - val_loss: 0.0677 - val_accuracy: 0.9769\n",
      "Epoch 39/50\n",
      "24/24 [==============================] - 3s 110ms/step - loss: 0.1898 - accuracy: 0.8851 - val_loss: 0.1345 - val_accuracy: 0.9385\n",
      "Epoch 40/50\n",
      "24/24 [==============================] - 2s 97ms/step - loss: 0.2088 - accuracy: 0.8679 - val_loss: 0.1368 - val_accuracy: 0.9385\n",
      "Epoch 41/50\n",
      "24/24 [==============================] - 3s 112ms/step - loss: 0.1940 - accuracy: 0.8851 - val_loss: 0.1705 - val_accuracy: 0.9385\n",
      "Epoch 42/50\n",
      "24/24 [==============================] - 3s 112ms/step - loss: 0.1749 - accuracy: 0.8808 - val_loss: 0.0624 - val_accuracy: 0.9692\n",
      "Epoch 43/50\n",
      "24/24 [==============================] - 3s 112ms/step - loss: 0.1471 - accuracy: 0.8894 - val_loss: 0.0543 - val_accuracy: 0.9769\n",
      "Epoch 44/50\n",
      "24/24 [==============================] - 3s 114ms/step - loss: 0.1352 - accuracy: 0.9305 - val_loss: 0.0936 - val_accuracy: 0.9769\n",
      "Epoch 45/50\n",
      "24/24 [==============================] - 3s 109ms/step - loss: 0.1755 - accuracy: 0.9022 - val_loss: 0.0481 - val_accuracy: 0.9846\n",
      "Epoch 46/50\n",
      "24/24 [==============================] - 2s 93ms/step - loss: 0.1776 - accuracy: 0.8902 - val_loss: 0.0540 - val_accuracy: 0.9769\n",
      "Epoch 47/50\n",
      "24/24 [==============================] - 3s 106ms/step - loss: 0.2155 - accuracy: 0.8654 - val_loss: 0.0848 - val_accuracy: 0.9462\n",
      "Epoch 48/50\n",
      "24/24 [==============================] - 3s 110ms/step - loss: 0.2066 - accuracy: 0.8551 - val_loss: 0.0443 - val_accuracy: 0.9846\n",
      "Epoch 49/50\n",
      "24/24 [==============================] - 3s 112ms/step - loss: 0.1904 - accuracy: 0.8842 - val_loss: 0.1099 - val_accuracy: 0.9462\n",
      "Epoch 50/50\n",
      "24/24 [==============================] - 3s 106ms/step - loss: 0.2439 - accuracy: 0.8310 - val_loss: 0.0676 - val_accuracy: 0.9692\n"
     ]
    }
   ],
   "source": [
    "history = model.fit(x_train, y_train, batch_size = 50, epochs = 50, validation_split = 0.1)"
   ]
  },
  {
   "cell_type": "code",
   "execution_count": 21,
   "id": "fbf839ca",
   "metadata": {},
   "outputs": [
    {
     "data": {
      "image/png": "[encoded data removed]",
      "text/plain": [
       "<Figure size 1080x432 with 1 Axes>"
      ]
     },
     "metadata": {
      "needs_background": "light"
     },
     "output_type": "display_data"
    }
   ],
   "source": [
    "show_accuracy(history)"
   ]
  },
  {
   "cell_type": "code",
   "execution_count": 22,
   "id": "a6230e6e",
   "metadata": {},
   "outputs": [
    {
     "name": "stdout",
     "output_type": "stream",
     "text": [
      "5/5 [==============================] - 0s 19ms/step - loss: 0.0366 - accuracy: 0.9931\n"
     ]
    }
   ],
   "source": [
    "pred = model.evaluate(x_val, y_val)"
   ]
  },
  {
   "cell_type": "markdown",
   "id": "0a9e92d1",
   "metadata": {},
   "source": [
    "### Sample Audio recording"
   ]
  },
  {
   "cell_type": "code",
   "execution_count": 23,
   "id": "75201012",
   "metadata": {},
   "outputs": [
    {
     "name": "stdout",
     "output_type": "stream",
     "text": [
      "* recording\n",
      "* data recording\n"
     ]
    }
   ],
   "source": [
    "sample_filename = audiowriter.write_audio()"
   ]
  },
  {
   "cell_type": "code",
   "execution_count": 34,
   "id": "b38350aa",
   "metadata": {},
   "outputs": [
    {
     "name": "stdout",
     "output_type": "stream",
     "text": [
      "(1, 101, 1)\n",
      "Gender definded - male / value = 0.028748929500579834\n"
     ]
    }
   ],
   "source": [
    "result = get_prediction(sample_filename, model)\n",
    "print(result)"
   ]
  }
 ],
 "metadata": {
  "kernelspec": {
   "display_name": "Python 3 (ipykernel)",
   "language": "python",
   "name": "python3"
  },
  "language_info": {
   "codemirror_mode": {
    "name": "ipython",
    "version": 3
   },
   "file_extension": ".py",
   "mimetype": "text/x-python",
   "name": "python",
   "nbconvert_exporter": "python",
   "pygments_lexer": "ipython3",
   "version": "3.9.7"
  }
 },
 "nbformat": 4,
 "nbformat_minor": 5
}
